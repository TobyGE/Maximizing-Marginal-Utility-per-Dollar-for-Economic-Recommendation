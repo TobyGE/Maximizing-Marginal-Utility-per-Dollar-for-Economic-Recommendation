{
 "cells": [
  {
   "cell_type": "code",
   "execution_count": 9,
   "metadata": {},
   "outputs": [],
   "source": [
    "import numpy as np\n",
    "import torch\n",
    "import torch.nn as nn\n",
    "import torch.optim as opt\n",
    "# from tqdm import tqdm\n",
    "from tqdm import tqdm_notebook as tqdm\n",
    "from heapq import heappush, heappop\n",
    "from torch.utils.data import Dataset, DataLoader\n",
    "import matplotlib.pyplot as plt\n",
    "\n",
    "import evaluation\n",
    "import data_loader\n",
    "from model import MF, MUD"
   ]
  },
  {
   "cell_type": "code",
   "execution_count": 6,
   "metadata": {},
   "outputs": [],
   "source": [
    "category = 'Baby'\n",
    "train, val, test = data_loader.read_data(category)\n",
    "item_price = data_loader.get_price(category)\n",
    "item_related = data_loader.get_related(category)\n",
    "distribution = data_loader.get_distribution(category)\n",
    "trainset = data_loader.TransactionData(train, item_related, \\\n",
    "            item_price, distribution)\n",
    "testset = data_loader.UserTransactionData(test, item_price, \\\n",
    "            trainset.itemNum, trainset.userHist)\n",
    "avg_rating = trainset.get_avgRating()"
   ]
  },
  {
   "cell_type": "code",
   "execution_count": 5,
   "metadata": {},
   "outputs": [],
   "source": [
    "params = dict()\n",
    "params['lr'] = 5e-4\n",
    "params['negNum_train'] = 3\n",
    "params[\"negNum_test\"] = 1000\n",
    "params['epoch_limit'] = 3\n",
    "params['w_decay'] = 1.5\n",
    "params['batch_size'] = 512\n",
    "params['gpu'] = False\n",
    "params['l_size'] = 50\n",
    "params['epsilon'] = 0.01"
   ]
  },
  {
   "cell_type": "code",
   "execution_count": 10,
   "metadata": {},
   "outputs": [
    {
     "data": {
      "application/vnd.jupyter.widget-view+json": {
       "model_id": "7c0f46d605d74f39a3440c1f056c910b",
       "version_major": 2,
       "version_minor": 0
      },
      "text/html": [
       "<p>Failed to display Jupyter Widget of type <code>HBox</code>.</p>\n",
       "<p>\n",
       "  If you're reading this message in the Jupyter Notebook or JupyterLab Notebook, it may mean\n",
       "  that the widgets JavaScript is still loading. If this message persists, it\n",
       "  likely means that the widgets JavaScript library is either not installed or\n",
       "  not enabled. See the <a href=\"https://ipywidgets.readthedocs.io/en/stable/user_install.html\">Jupyter\n",
       "  Widgets Documentation</a> for setup instructions.\n",
       "</p>\n",
       "<p>\n",
       "  If you're reading this message in another frontend (for example, a static\n",
       "  rendering on GitHub or <a href=\"https://nbviewer.jupyter.org/\">NBViewer</a>),\n",
       "  it may mean that your frontend doesn't currently support widgets.\n",
       "</p>\n"
      ],
      "text/plain": [
       "HBox(children=(IntProgress(value=0, max=132748), HTML(value='')))"
      ]
     },
     "metadata": {},
     "output_type": "display_data"
    },
    {
     "name": "stderr",
     "output_type": "stream",
     "text": [
      "\n",
      " 49%|████▊     | 64512/132748 [00:25<00:10, 6248.22it/s]\u001b[A"
     ]
    },
    {
     "name": "stdout",
     "output_type": "stream",
     "text": [
      "\n"
     ]
    },
    {
     "name": "stderr",
     "output_type": "stream",
     "text": [
      "\n",
      "Exception ignored in: <bound method tqdm.__del__ of  49%|████▊     | 64512/132748 [00:32<00:10, 6248.22it/s]>\n",
      "Traceback (most recent call last):\n",
      "  File \"/Users/yingqiang/anaconda3/lib/python3.6/site-packages/tqdm/_tqdm.py\", line 882, in __del__\n",
      "    self.close()\n",
      "  File \"/Users/yingqiang/anaconda3/lib/python3.6/site-packages/tqdm/_tqdm.py\", line 1087, in close\n",
      "    self._decr_instances(self)\n",
      "  File \"/Users/yingqiang/anaconda3/lib/python3.6/site-packages/tqdm/_tqdm.py\", line 452, in _decr_instances\n",
      "    cls.monitor.exit()\n",
      "  File \"/Users/yingqiang/anaconda3/lib/python3.6/site-packages/tqdm/_monitor.py\", line 50, in exit\n",
      "    self.join()\n",
      "  File \"/Users/yingqiang/anaconda3/lib/python3.6/threading.py\", line 1053, in join\n",
      "    raise RuntimeError(\"cannot join current thread\")\n",
      "RuntimeError: cannot join current thread\n"
     ]
    },
    {
     "data": {
      "application/vnd.jupyter.widget-view+json": {
       "model_id": "4b28f5417e58430288aa49035bb8f4bb",
       "version_major": 2,
       "version_minor": 0
      },
      "text/html": [
       "<p>Failed to display Jupyter Widget of type <code>HBox</code>.</p>\n",
       "<p>\n",
       "  If you're reading this message in the Jupyter Notebook or JupyterLab Notebook, it may mean\n",
       "  that the widgets JavaScript is still loading. If this message persists, it\n",
       "  likely means that the widgets JavaScript library is either not installed or\n",
       "  not enabled. See the <a href=\"https://ipywidgets.readthedocs.io/en/stable/user_install.html\">Jupyter\n",
       "  Widgets Documentation</a> for setup instructions.\n",
       "</p>\n",
       "<p>\n",
       "  If you're reading this message in another frontend (for example, a static\n",
       "  rendering on GitHub or <a href=\"https://nbviewer.jupyter.org/\">NBViewer</a>),\n",
       "  it may mean that your frontend doesn't currently support widgets.\n",
       "</p>\n"
      ],
      "text/plain": [
       "HBox(children=(IntProgress(value=0, max=132748), HTML(value='')))"
      ]
     },
     "metadata": {},
     "output_type": "display_data"
    },
    {
     "name": "stdout",
     "output_type": "stream",
     "text": [
      "\n"
     ]
    },
    {
     "data": {
      "application/vnd.jupyter.widget-view+json": {
       "model_id": "60f742457d8545eead6e256b683fd8ba",
       "version_major": 2,
       "version_minor": 0
      },
      "text/html": [
       "<p>Failed to display Jupyter Widget of type <code>HBox</code>.</p>\n",
       "<p>\n",
       "  If you're reading this message in the Jupyter Notebook or JupyterLab Notebook, it may mean\n",
       "  that the widgets JavaScript is still loading. If this message persists, it\n",
       "  likely means that the widgets JavaScript library is either not installed or\n",
       "  not enabled. See the <a href=\"https://ipywidgets.readthedocs.io/en/stable/user_install.html\">Jupyter\n",
       "  Widgets Documentation</a> for setup instructions.\n",
       "</p>\n",
       "<p>\n",
       "  If you're reading this message in another frontend (for example, a static\n",
       "  rendering on GitHub or <a href=\"https://nbviewer.jupyter.org/\">NBViewer</a>),\n",
       "  it may mean that your frontend doesn't currently support widgets.\n",
       "</p>\n"
      ],
      "text/plain": [
       "HBox(children=(IntProgress(value=0, max=132748), HTML(value='')))"
      ]
     },
     "metadata": {},
     "output_type": "display_data"
    },
    {
     "name": "stdout",
     "output_type": "stream",
     "text": [
      "\n"
     ]
    },
    {
     "data": {
      "image/png": "[encoded data removed]",
      "text/plain": [
       "<matplotlib.figure.Figure at 0x113ba2208>"
      ]
     },
     "metadata": {},
     "output_type": "display_data"
    },
    {
     "data": {
      "application/vnd.jupyter.widget-view+json": {
       "model_id": "91e23a2d679b4d8789e437bd54096c49",
       "version_major": 2,
       "version_minor": 0
      },
      "text/html": [
       "<p>Failed to display Jupyter Widget of type <code>HBox</code>.</p>\n",
       "<p>\n",
       "  If you're reading this message in the Jupyter Notebook or JupyterLab Notebook, it may mean\n",
       "  that the widgets JavaScript is still loading. If this message persists, it\n",
       "  likely means that the widgets JavaScript library is either not installed or\n",
       "  not enabled. See the <a href=\"https://ipywidgets.readthedocs.io/en/stable/user_install.html\">Jupyter\n",
       "  Widgets Documentation</a> for setup instructions.\n",
       "</p>\n",
       "<p>\n",
       "  If you're reading this message in another frontend (for example, a static\n",
       "  rendering on GitHub or <a href=\"https://nbviewer.jupyter.org/\">NBViewer</a>),\n",
       "  it may mean that your frontend doesn't currently support widgets.\n",
       "</p>\n"
      ],
      "text/plain": [
       "HBox(children=(IntProgress(value=0, max=23894), HTML(value='')))"
      ]
     },
     "metadata": {},
     "output_type": "display_data"
    },
    {
     "name": "stdout",
     "output_type": "stream",
     "text": [
      "\n",
      "\tPrecision@: {1:1.0; 5: 0.218690884741; 10: 0.10934544237}\n",
      "\tRecall@: {1:0.86581919295; 5: 0.89010316553; 10: 0.89010316553}\n",
      "\tNDCG@: {1:1.0; 5: 0.902375326333; 10: 0.900782238172}\n"
     ]
    }
   ],
   "source": [
    "model = MF(userLen = trainset.userNum, itemLen = trainset.itemNum,\\\n",
    "        avg_rating = avg_rating, params = params)\n",
    "optimizer = opt.SGD(model.parameters(), lr = params['lr'], weight_decay = params['w_decay'])\n",
    "criterion = nn.MSELoss(reduction = 'sum')\n",
    "\n",
    "trainset.set_negN(params['negNum_train'])\n",
    "trainLoader = DataLoader(trainset, batch_size = params['batch_size'], \\\n",
    "        shuffle = True, num_workers = 0)\n",
    "testset.set_negN(params[\"negNum_test\"])\n",
    "testLoader = DataLoader(testset, batch_size = 1, shuffle = True, num_workers = 0)\n",
    "\n",
    "runningLoss = []\n",
    "printLoss = []\n",
    "epoch = 0\n",
    "while epoch < params['epoch_limit']:\n",
    "    epoch += 1\n",
    "    L = len(trainLoader.dataset)\n",
    "    pbar = tqdm(total = L)\n",
    "    for i, batchData in enumerate(trainLoader):\n",
    "        optimizer.zero_grad()\n",
    "        # get input\n",
    "        users = torch.LongTensor(batchData['user'])#.to(Rating.device)\n",
    "        items = torch.LongTensor(batchData['item'])#.to(Rating.device)\n",
    "        pre_r = model.forward(users, items)\n",
    "        r = torch.FloatTensor(batchData['rating'])#.to(Rating.device)\n",
    "\n",
    "        loss = criterion(pre_r, r)\n",
    "        runningLoss.append(loss.item())\n",
    "        if (i+1) % 50 == 0:\n",
    "            printLoss.append(np.mean(np.array(runningLoss[-50:])))\n",
    "        loss.backward()\n",
    "        optimizer.step()\n",
    "        pbar.update(users.shape[0])\n",
    "    pbar.close()\n",
    "plt.plot(printLoss)\n",
    "plt.show()\n",
    "with torch.no_grad():\n",
    "    L = len(testLoader.dataset)\n",
    "    pbar = tqdm(total = L)\n",
    "    scoreDict = dict()\n",
    "    for i, batchData in enumerate(testLoader):\n",
    "        user = torch.LongTensor(batchData['user']).to(model.device)\n",
    "        posItems = torch.LongTensor(batchData['posItem']).to(model.device)\n",
    "        negItems = torch.LongTensor(batchData['negItem']).to(model.device)\n",
    "        items = torch.cat((posItems, negItems),1).view(-1)\n",
    "        users = user.expand(items.shape[0])\n",
    "\n",
    "        out = model.forward(users,items)\n",
    "        scoreHeap = list()\n",
    "        for j in range(out.shape[0]):\n",
    "            gt = False\n",
    "            if j < posItems.shape[1]:\n",
    "                gt = True\n",
    "            # if prices[j] > budget:\n",
    "            #     heappush(scoreHeap, (100, (0 + items[j].cpu().numpy(), gt)))\n",
    "            # else:\n",
    "            #     heappush(scoreHeap, (1 - out[j].cpu().numpy(), (0 + items[j].cpu().numpy(), gt)))\n",
    "            heappush(scoreHeap, (1 - out[j].cpu().numpy(), (0 + items[j].cpu().numpy(), gt)))\n",
    "        scores = list()\n",
    "        candidate = len(scoreHeap)\n",
    "        for k in range(candidate):\n",
    "            scores.append(heappop(scoreHeap))\n",
    "        pbar.update(1)\n",
    "        scoreDict[user[0]] = (scores, posItems.shape[1])\n",
    "    pbar.close()\n",
    "testResult = evaluation.ranking_performance(scoreDict,10)"
   ]
  },
  {
   "cell_type": "code",
   "execution_count": null,
   "metadata": {},
   "outputs": [],
   "source": []
  }
 ],
 "metadata": {
  "kernelspec": {
   "display_name": "Python 3",
   "language": "python",
   "name": "python3"
  },
  "language_info": {
   "codemirror_mode": {
    "name": "ipython",
    "version": 3
   },
   "file_extension": ".py",
   "mimetype": "text/x-python",
   "name": "python",
   "nbconvert_exporter": "python",
   "pygments_lexer": "ipython3",
   "version": "3.6.4"
  },
  "toc": {
   "base_numbering": 1,
   "nav_menu": {},
   "number_sections": true,
   "sideBar": true,
   "skip_h1_title": false,
   "title_cell": "Table of Contents",
   "title_sidebar": "Contents",
   "toc_cell": false,
   "toc_position": {},
   "toc_section_display": true,
   "toc_window_display": false
  },
  "varInspector": {
   "cols": {
    "lenName": 16,
    "lenType": 16,
    "lenVar": 40
   },
   "kernels_config": {
    "python": {
     "delete_cmd_postfix": "",
     "delete_cmd_prefix": "del ",
     "library": "var_list.py",
     "varRefreshCmd": "print(var_dic_list())"
    },
    "r": {
     "delete_cmd_postfix": ") ",
     "delete_cmd_prefix": "rm(",
     "library": "var_list.r",
     "varRefreshCmd": "cat(var_dic_list()) "
    }
   },
   "types_to_exclude": [
    "module",
    "function",
    "builtin_function_or_method",
    "instance",
    "_Feature"
   ],
   "window_display": false
  }
 },
 "nbformat": 4,
 "nbformat_minor": 2
}
