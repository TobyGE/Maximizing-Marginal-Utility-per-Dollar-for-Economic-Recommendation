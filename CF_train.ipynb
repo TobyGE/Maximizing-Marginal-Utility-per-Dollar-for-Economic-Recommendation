{
 "cells": [
  {
   "cell_type": "code",
   "execution_count": 8,
   "metadata": {},
   "outputs": [],
   "source": [
    "import numpy as np\n",
    "import torch\n",
    "import torch.nn as nn\n",
    "import torch.optim as opt\n",
    "# from tqdm import tqdm\n",
    "from tqdm import tqdm_notebook as tqdm\n",
    "from heapq import heappush, heappop\n",
    "from torch.utils.data import Dataset, DataLoader\n",
    "import matplotlib.pyplot as plt\n",
    "import math\n",
    "import evaluation\n",
    "import data_loader\n",
    "# from model import MF, MUD\n",
    "# import pdb\n",
    "# import torchsnooper"
   ]
  },
  {
   "cell_type": "code",
   "execution_count": 9,
   "metadata": {},
   "outputs": [],
   "source": [
    "class MF(nn.Module):\n",
    "    \"\"\"\n",
    "        - userLen: the number of users\n",
    "        - itemLen: the number of items\n",
    "        - params: the parameters dict used for constructing model\n",
    "            - l_size: latent dimension size\n",
    "            - gpu: True/False, whether using GPU\n",
    "            \n",
    "    \"\"\"\n",
    "    def __init__(self, userLen, itemLen, avg_rating, params):\n",
    "        super(MF, self).__init__()\n",
    "        self.userNum = userLen\n",
    "        self.itemNum = itemLen\n",
    "        self.params = params\n",
    "        if 'gpu' in params and params['gpu'] == True:\n",
    "            self.device = 'cuda:0'\n",
    "        else:\n",
    "            self.device = 'cpu'\n",
    "\n",
    "        l_size = params['l_size']\n",
    "        \n",
    "        \"\"\"\n",
    "            Initialize  global bias,\n",
    "                        user bias,\n",
    "                        item bias,\n",
    "                        user embedding,\n",
    "                        item embedding\n",
    "        \"\"\"\n",
    "        self.globalBias = avg_rating.to(self.device)\n",
    "        \n",
    "        self.uBias = nn.Embedding(userLen,1).to(self.device)\n",
    "        self.uBias.weight.data = torch.zeros_like(self.uBias.weight.data)\n",
    "        \n",
    "        self.itemBias = nn.Embedding(itemLen,1).to(self.device)\n",
    "        self.itemBias.weight.data = torch.zeros_like(self.itemBias.weight.data)\n",
    "        \n",
    "#         a = math.sqrt(2.0 / params['l_size'])\n",
    "        self.uEmbed = nn.Embedding(userLen, l_size).to(self.device)\n",
    "        self.uEmbed.weight.data.uniform_(-1, 1)\n",
    "        \n",
    "        self.itemEmbed = nn.Embedding(itemLen, l_size).to(self.device)\n",
    "        self.itemEmbed.weight.data.uniform_(-1, 1)\n",
    "    \n",
    "    def forward(self, users, items):\n",
    "        uE = self.uEmbed(users)\n",
    "#         print('uE:',uE.shape)\n",
    "        uB = self.uBias(users)\n",
    "#         print('uB:',uB.shape)\n",
    "        iE = self.itemEmbed(items)\n",
    "#         print('iE:',iE.shape)\n",
    "        iB = self.itemBias(items)\n",
    "#         print('iB:',iB.shape)\n",
    "#         gB = self.globalBias.expand(users.shape[0],1)\n",
    "#         print('mul(uE, iE):',(torch.mul(uE, iE).sum(1)).shape)\n",
    "        score = self.globalBias + uB + iB + torch.mul(uE, iE).sum(1).view(-1,1)\n",
    "#         print((self.globalBias + uB + iB).shape)\n",
    "#         print(((uE*iE).sum(1)).shape)\n",
    "#         score = (self.globalBias + uB + iB).view(-1) + (uE*iE).sum(1)\n",
    "#         score = (uE*iE).sum(1)\n",
    "#         print(score.shape)\n",
    "        return score\n",
    "        "
   ]
  },
  {
   "cell_type": "code",
   "execution_count": 10,
   "metadata": {},
   "outputs": [],
   "source": [
    "params = dict()\n",
    "params['lr'] = 1e-1\n",
    "params['negNum_train'] = 3\n",
    "params[\"negNum_test\"] = 200\n",
    "params['epoch_limit'] = 20\n",
    "params['w_decay'] = 0\n",
    "params['batch_size'] = 64\n",
    "params['gpu'] = False\n",
    "params['l_size'] = 16\n",
    "params['epsilon'] = 0.01"
   ]
  },
  {
   "cell_type": "code",
   "execution_count": 11,
   "metadata": {},
   "outputs": [],
   "source": [
    "category = 'Baby'"
   ]
  },
  {
   "cell_type": "code",
   "execution_count": 12,
   "metadata": {},
   "outputs": [],
   "source": [
    "train, val, test = data_loader.read_data(category)\n",
    "item_price = data_loader.get_price(category)\n",
    "item_related = data_loader.get_related(category)\n",
    "distribution = data_loader.get_distribution(category)"
   ]
  },
  {
   "cell_type": "code",
   "execution_count": 13,
   "metadata": {},
   "outputs": [
    {
     "name": "stdout",
     "output_type": "stream",
     "text": [
      "Loading training, validation set...\n",
      "Finish loading training and validation set.\n",
      "Loading Testing set...\n",
      "Finish loading testing set.\n",
      "Average rating score of training set: 4.20\n"
     ]
    }
   ],
   "source": [
    "print('Loading training, validation set...')\n",
    "trainset = data_loader.TransactionData(train, item_related, \\\n",
    "            item_price, distribution)\n",
    "valset = data_loader.UserTransactionData(val, item_price, \\\n",
    "            trainset.itemNum, trainset.userHist)\n",
    "print('Finish loading training and validation set.')\n",
    "print('Loading Testing set...')\n",
    "testset = data_loader.UserTransactionData(test, item_price, \\\n",
    "            trainset.itemNum, trainset.userHist)\n",
    "print('Finish loading testing set.')\n",
    "avg_rating = trainset.get_avgRating()\n",
    "print('Average rating score of training set: %.2f' %avg_rating)\n",
    "\n"
   ]
  },
  {
   "cell_type": "code",
   "execution_count": 14,
   "metadata": {},
   "outputs": [
    {
     "name": "stdout",
     "output_type": "stream",
     "text": [
      "Finish data loading, start model preparing...\n"
     ]
    }
   ],
   "source": [
    "print('Finish data loading, start model preparing...')\n",
    "model = MF(userLen = trainset.userNum, itemLen = trainset.itemNum,\\\n",
    "        avg_rating = avg_rating, params = params)\n",
    "optimizer = opt.SGD(model.parameters(), lr = params['lr'], weight_decay = params['w_decay'])\n",
    "criterion = nn.MSELoss()\n",
    "\n",
    "trainset.set_negN(params['negNum_train'])\n",
    "trainLoader = DataLoader(trainset, batch_size = params['batch_size'], \\\n",
    "        shuffle = True, num_workers = 0)\n",
    "\n",
    "valset.set_negN(params[\"negNum_test\"])\n",
    "valLoader = DataLoader(valset, batch_size = 1, shuffle = False, num_workers = 0)\n",
    "\n",
    "testset.set_negN(params[\"negNum_test\"])\n",
    "testLoader = DataLoader(testset, batch_size = 1, shuffle = False, num_workers = 0)"
   ]
  },
  {
   "cell_type": "code",
   "execution_count": 15,
   "metadata": {},
   "outputs": [
    {
     "data": {
      "application/vnd.jupyter.widget-view+json": {
       "model_id": "27828faa2cb34eccbca7c7ca7fd394cd",
       "version_major": 2,
       "version_minor": 0
      },
      "text/html": [
       "<p>Failed to display Jupyter Widget of type <code>HBox</code>.</p>\n",
       "<p>\n",
       "  If you're reading this message in the Jupyter Notebook or JupyterLab Notebook, it may mean\n",
       "  that the widgets JavaScript is still loading. If this message persists, it\n",
       "  likely means that the widgets JavaScript library is either not installed or\n",
       "  not enabled. See the <a href=\"https://ipywidgets.readthedocs.io/en/stable/user_install.html\">Jupyter\n",
       "  Widgets Documentation</a> for setup instructions.\n",
       "</p>\n",
       "<p>\n",
       "  If you're reading this message in another frontend (for example, a static\n",
       "  rendering on GitHub or <a href=\"https://nbviewer.jupyter.org/\">NBViewer</a>),\n",
       "  it may mean that your frontend doesn't currently support widgets.\n",
       "</p>\n"
      ],
      "text/plain": [
       "HBox(children=(IntProgress(value=0, max=132748), HTML(value='')))"
      ]
     },
     "metadata": {},
     "output_type": "display_data"
    },
    {
     "name": "stdout",
     "output_type": "stream",
     "text": [
      "\n"
     ]
    },
    {
     "data": {
      "application/vnd.jupyter.widget-view+json": {
       "model_id": "ad241aaf7bb0489cb8d13b2cdfd3b5d0",
       "version_major": 2,
       "version_minor": 0
      },
      "text/html": [
       "<p>Failed to display Jupyter Widget of type <code>HBox</code>.</p>\n",
       "<p>\n",
       "  If you're reading this message in the Jupyter Notebook or JupyterLab Notebook, it may mean\n",
       "  that the widgets JavaScript is still loading. If this message persists, it\n",
       "  likely means that the widgets JavaScript library is either not installed or\n",
       "  not enabled. See the <a href=\"https://ipywidgets.readthedocs.io/en/stable/user_install.html\">Jupyter\n",
       "  Widgets Documentation</a> for setup instructions.\n",
       "</p>\n",
       "<p>\n",
       "  If you're reading this message in another frontend (for example, a static\n",
       "  rendering on GitHub or <a href=\"https://nbviewer.jupyter.org/\">NBViewer</a>),\n",
       "  it may mean that your frontend doesn't currently support widgets.\n",
       "</p>\n"
      ],
      "text/plain": [
       "HBox(children=(IntProgress(value=0, max=132748), HTML(value='')))"
      ]
     },
     "metadata": {},
     "output_type": "display_data"
    },
    {
     "name": "stdout",
     "output_type": "stream",
     "text": [
      "\n"
     ]
    },
    {
     "data": {
      "application/vnd.jupyter.widget-view+json": {
       "model_id": "3c5758cf31484a22b425fb77d5f24a5d",
       "version_major": 2,
       "version_minor": 0
      },
      "text/html": [
       "<p>Failed to display Jupyter Widget of type <code>HBox</code>.</p>\n",
       "<p>\n",
       "  If you're reading this message in the Jupyter Notebook or JupyterLab Notebook, it may mean\n",
       "  that the widgets JavaScript is still loading. If this message persists, it\n",
       "  likely means that the widgets JavaScript library is either not installed or\n",
       "  not enabled. See the <a href=\"https://ipywidgets.readthedocs.io/en/stable/user_install.html\">Jupyter\n",
       "  Widgets Documentation</a> for setup instructions.\n",
       "</p>\n",
       "<p>\n",
       "  If you're reading this message in another frontend (for example, a static\n",
       "  rendering on GitHub or <a href=\"https://nbviewer.jupyter.org/\">NBViewer</a>),\n",
       "  it may mean that your frontend doesn't currently support widgets.\n",
       "</p>\n"
      ],
      "text/plain": [
       "HBox(children=(IntProgress(value=0, max=132748), HTML(value='')))"
      ]
     },
     "metadata": {},
     "output_type": "display_data"
    },
    {
     "name": "stdout",
     "output_type": "stream",
     "text": [
      "\n"
     ]
    },
    {
     "data": {
      "application/vnd.jupyter.widget-view+json": {
       "model_id": "66fa71c9c1c243e5b298925fae9410fe",
       "version_major": 2,
       "version_minor": 0
      },
      "text/html": [
       "<p>Failed to display Jupyter Widget of type <code>HBox</code>.</p>\n",
       "<p>\n",
       "  If you're reading this message in the Jupyter Notebook or JupyterLab Notebook, it may mean\n",
       "  that the widgets JavaScript is still loading. If this message persists, it\n",
       "  likely means that the widgets JavaScript library is either not installed or\n",
       "  not enabled. See the <a href=\"https://ipywidgets.readthedocs.io/en/stable/user_install.html\">Jupyter\n",
       "  Widgets Documentation</a> for setup instructions.\n",
       "</p>\n",
       "<p>\n",
       "  If you're reading this message in another frontend (for example, a static\n",
       "  rendering on GitHub or <a href=\"https://nbviewer.jupyter.org/\">NBViewer</a>),\n",
       "  it may mean that your frontend doesn't currently support widgets.\n",
       "</p>\n"
      ],
      "text/plain": [
       "HBox(children=(IntProgress(value=0, max=132748), HTML(value='')))"
      ]
     },
     "metadata": {},
     "output_type": "display_data"
    },
    {
     "name": "stdout",
     "output_type": "stream",
     "text": [
      "\n"
     ]
    },
    {
     "data": {
      "application/vnd.jupyter.widget-view+json": {
       "model_id": "133b259dae4046f4bc54079946f36492",
       "version_major": 2,
       "version_minor": 0
      },
      "text/html": [
       "<p>Failed to display Jupyter Widget of type <code>HBox</code>.</p>\n",
       "<p>\n",
       "  If you're reading this message in the Jupyter Notebook or JupyterLab Notebook, it may mean\n",
       "  that the widgets JavaScript is still loading. If this message persists, it\n",
       "  likely means that the widgets JavaScript library is either not installed or\n",
       "  not enabled. See the <a href=\"https://ipywidgets.readthedocs.io/en/stable/user_install.html\">Jupyter\n",
       "  Widgets Documentation</a> for setup instructions.\n",
       "</p>\n",
       "<p>\n",
       "  If you're reading this message in another frontend (for example, a static\n",
       "  rendering on GitHub or <a href=\"https://nbviewer.jupyter.org/\">NBViewer</a>),\n",
       "  it may mean that your frontend doesn't currently support widgets.\n",
       "</p>\n"
      ],
      "text/plain": [
       "HBox(children=(IntProgress(value=0, max=132748), HTML(value='')))"
      ]
     },
     "metadata": {},
     "output_type": "display_data"
    },
    {
     "name": "stdout",
     "output_type": "stream",
     "text": [
      "\n"
     ]
    },
    {
     "data": {
      "application/vnd.jupyter.widget-view+json": {
       "model_id": "df3bc37bce3b431b9410e6b15686f269",
       "version_major": 2,
       "version_minor": 0
      },
      "text/html": [
       "<p>Failed to display Jupyter Widget of type <code>HBox</code>.</p>\n",
       "<p>\n",
       "  If you're reading this message in the Jupyter Notebook or JupyterLab Notebook, it may mean\n",
       "  that the widgets JavaScript is still loading. If this message persists, it\n",
       "  likely means that the widgets JavaScript library is either not installed or\n",
       "  not enabled. See the <a href=\"https://ipywidgets.readthedocs.io/en/stable/user_install.html\">Jupyter\n",
       "  Widgets Documentation</a> for setup instructions.\n",
       "</p>\n",
       "<p>\n",
       "  If you're reading this message in another frontend (for example, a static\n",
       "  rendering on GitHub or <a href=\"https://nbviewer.jupyter.org/\">NBViewer</a>),\n",
       "  it may mean that your frontend doesn't currently support widgets.\n",
       "</p>\n"
      ],
      "text/plain": [
       "HBox(children=(IntProgress(value=0, max=132748), HTML(value='')))"
      ]
     },
     "metadata": {},
     "output_type": "display_data"
    },
    {
     "name": "stdout",
     "output_type": "stream",
     "text": [
      "\n"
     ]
    },
    {
     "data": {
      "application/vnd.jupyter.widget-view+json": {
       "model_id": "b5b078805eda45e9a9da53f73f7a8d4e",
       "version_major": 2,
       "version_minor": 0
      },
      "text/html": [
       "<p>Failed to display Jupyter Widget of type <code>HBox</code>.</p>\n",
       "<p>\n",
       "  If you're reading this message in the Jupyter Notebook or JupyterLab Notebook, it may mean\n",
       "  that the widgets JavaScript is still loading. If this message persists, it\n",
       "  likely means that the widgets JavaScript library is either not installed or\n",
       "  not enabled. See the <a href=\"https://ipywidgets.readthedocs.io/en/stable/user_install.html\">Jupyter\n",
       "  Widgets Documentation</a> for setup instructions.\n",
       "</p>\n",
       "<p>\n",
       "  If you're reading this message in another frontend (for example, a static\n",
       "  rendering on GitHub or <a href=\"https://nbviewer.jupyter.org/\">NBViewer</a>),\n",
       "  it may mean that your frontend doesn't currently support widgets.\n",
       "</p>\n"
      ],
      "text/plain": [
       "HBox(children=(IntProgress(value=0, max=132748), HTML(value='')))"
      ]
     },
     "metadata": {},
     "output_type": "display_data"
    },
    {
     "name": "stdout",
     "output_type": "stream",
     "text": [
      "\n"
     ]
    },
    {
     "data": {
      "application/vnd.jupyter.widget-view+json": {
       "model_id": "7e21784f01f2423a93ce878e7e488052",
       "version_major": 2,
       "version_minor": 0
      },
      "text/html": [
       "<p>Failed to display Jupyter Widget of type <code>HBox</code>.</p>\n",
       "<p>\n",
       "  If you're reading this message in the Jupyter Notebook or JupyterLab Notebook, it may mean\n",
       "  that the widgets JavaScript is still loading. If this message persists, it\n",
       "  likely means that the widgets JavaScript library is either not installed or\n",
       "  not enabled. See the <a href=\"https://ipywidgets.readthedocs.io/en/stable/user_install.html\">Jupyter\n",
       "  Widgets Documentation</a> for setup instructions.\n",
       "</p>\n",
       "<p>\n",
       "  If you're reading this message in another frontend (for example, a static\n",
       "  rendering on GitHub or <a href=\"https://nbviewer.jupyter.org/\">NBViewer</a>),\n",
       "  it may mean that your frontend doesn't currently support widgets.\n",
       "</p>\n"
      ],
      "text/plain": [
       "HBox(children=(IntProgress(value=0, max=132748), HTML(value='')))"
      ]
     },
     "metadata": {},
     "output_type": "display_data"
    },
    {
     "name": "stdout",
     "output_type": "stream",
     "text": [
      "\n"
     ]
    },
    {
     "data": {
      "application/vnd.jupyter.widget-view+json": {
       "model_id": "c949a32a049a48d4a89968adbc776ff7",
       "version_major": 2,
       "version_minor": 0
      },
      "text/html": [
       "<p>Failed to display Jupyter Widget of type <code>HBox</code>.</p>\n",
       "<p>\n",
       "  If you're reading this message in the Jupyter Notebook or JupyterLab Notebook, it may mean\n",
       "  that the widgets JavaScript is still loading. If this message persists, it\n",
       "  likely means that the widgets JavaScript library is either not installed or\n",
       "  not enabled. See the <a href=\"https://ipywidgets.readthedocs.io/en/stable/user_install.html\">Jupyter\n",
       "  Widgets Documentation</a> for setup instructions.\n",
       "</p>\n",
       "<p>\n",
       "  If you're reading this message in another frontend (for example, a static\n",
       "  rendering on GitHub or <a href=\"https://nbviewer.jupyter.org/\">NBViewer</a>),\n",
       "  it may mean that your frontend doesn't currently support widgets.\n",
       "</p>\n"
      ],
      "text/plain": [
       "HBox(children=(IntProgress(value=0, max=132748), HTML(value='')))"
      ]
     },
     "metadata": {},
     "output_type": "display_data"
    },
    {
     "name": "stdout",
     "output_type": "stream",
     "text": [
      "\n"
     ]
    },
    {
     "data": {
      "application/vnd.jupyter.widget-view+json": {
       "model_id": "a9dabf3851a14fd88f17ff04a81d3062",
       "version_major": 2,
       "version_minor": 0
      },
      "text/html": [
       "<p>Failed to display Jupyter Widget of type <code>HBox</code>.</p>\n",
       "<p>\n",
       "  If you're reading this message in the Jupyter Notebook or JupyterLab Notebook, it may mean\n",
       "  that the widgets JavaScript is still loading. If this message persists, it\n",
       "  likely means that the widgets JavaScript library is either not installed or\n",
       "  not enabled. See the <a href=\"https://ipywidgets.readthedocs.io/en/stable/user_install.html\">Jupyter\n",
       "  Widgets Documentation</a> for setup instructions.\n",
       "</p>\n",
       "<p>\n",
       "  If you're reading this message in another frontend (for example, a static\n",
       "  rendering on GitHub or <a href=\"https://nbviewer.jupyter.org/\">NBViewer</a>),\n",
       "  it may mean that your frontend doesn't currently support widgets.\n",
       "</p>\n"
      ],
      "text/plain": [
       "HBox(children=(IntProgress(value=0, max=132748), HTML(value='')))"
      ]
     },
     "metadata": {},
     "output_type": "display_data"
    },
    {
     "name": "stdout",
     "output_type": "stream",
     "text": [
      "\n"
     ]
    },
    {
     "data": {
      "application/vnd.jupyter.widget-view+json": {
       "model_id": "4851d525864048e29f68104a959bb01a",
       "version_major": 2,
       "version_minor": 0
      },
      "text/html": [
       "<p>Failed to display Jupyter Widget of type <code>HBox</code>.</p>\n",
       "<p>\n",
       "  If you're reading this message in the Jupyter Notebook or JupyterLab Notebook, it may mean\n",
       "  that the widgets JavaScript is still loading. If this message persists, it\n",
       "  likely means that the widgets JavaScript library is either not installed or\n",
       "  not enabled. See the <a href=\"https://ipywidgets.readthedocs.io/en/stable/user_install.html\">Jupyter\n",
       "  Widgets Documentation</a> for setup instructions.\n",
       "</p>\n",
       "<p>\n",
       "  If you're reading this message in another frontend (for example, a static\n",
       "  rendering on GitHub or <a href=\"https://nbviewer.jupyter.org/\">NBViewer</a>),\n",
       "  it may mean that your frontend doesn't currently support widgets.\n",
       "</p>\n"
      ],
      "text/plain": [
       "HBox(children=(IntProgress(value=0, max=132748), HTML(value='')))"
      ]
     },
     "metadata": {},
     "output_type": "display_data"
    },
    {
     "name": "stdout",
     "output_type": "stream",
     "text": [
      "\n"
     ]
    },
    {
     "data": {
      "application/vnd.jupyter.widget-view+json": {
       "model_id": "3bd8e7678487483db64b9843a82a8e3c",
       "version_major": 2,
       "version_minor": 0
      },
      "text/html": [
       "<p>Failed to display Jupyter Widget of type <code>HBox</code>.</p>\n",
       "<p>\n",
       "  If you're reading this message in the Jupyter Notebook or JupyterLab Notebook, it may mean\n",
       "  that the widgets JavaScript is still loading. If this message persists, it\n",
       "  likely means that the widgets JavaScript library is either not installed or\n",
       "  not enabled. See the <a href=\"https://ipywidgets.readthedocs.io/en/stable/user_install.html\">Jupyter\n",
       "  Widgets Documentation</a> for setup instructions.\n",
       "</p>\n",
       "<p>\n",
       "  If you're reading this message in another frontend (for example, a static\n",
       "  rendering on GitHub or <a href=\"https://nbviewer.jupyter.org/\">NBViewer</a>),\n",
       "  it may mean that your frontend doesn't currently support widgets.\n",
       "</p>\n"
      ],
      "text/plain": [
       "HBox(children=(IntProgress(value=0, max=132748), HTML(value='')))"
      ]
     },
     "metadata": {},
     "output_type": "display_data"
    },
    {
     "name": "stdout",
     "output_type": "stream",
     "text": [
      "\n"
     ]
    },
    {
     "data": {
      "application/vnd.jupyter.widget-view+json": {
       "model_id": "299175f8458040eea3336aa5427091e9",
       "version_major": 2,
       "version_minor": 0
      },
      "text/html": [
       "<p>Failed to display Jupyter Widget of type <code>HBox</code>.</p>\n",
       "<p>\n",
       "  If you're reading this message in the Jupyter Notebook or JupyterLab Notebook, it may mean\n",
       "  that the widgets JavaScript is still loading. If this message persists, it\n",
       "  likely means that the widgets JavaScript library is either not installed or\n",
       "  not enabled. See the <a href=\"https://ipywidgets.readthedocs.io/en/stable/user_install.html\">Jupyter\n",
       "  Widgets Documentation</a> for setup instructions.\n",
       "</p>\n",
       "<p>\n",
       "  If you're reading this message in another frontend (for example, a static\n",
       "  rendering on GitHub or <a href=\"https://nbviewer.jupyter.org/\">NBViewer</a>),\n",
       "  it may mean that your frontend doesn't currently support widgets.\n",
       "</p>\n"
      ],
      "text/plain": [
       "HBox(children=(IntProgress(value=0, max=132748), HTML(value='')))"
      ]
     },
     "metadata": {},
     "output_type": "display_data"
    },
    {
     "name": "stdout",
     "output_type": "stream",
     "text": [
      "\n"
     ]
    },
    {
     "data": {
      "application/vnd.jupyter.widget-view+json": {
       "model_id": "118bfb664a3a458c8bd6bbdbbe6a779d",
       "version_major": 2,
       "version_minor": 0
      },
      "text/html": [
       "<p>Failed to display Jupyter Widget of type <code>HBox</code>.</p>\n",
       "<p>\n",
       "  If you're reading this message in the Jupyter Notebook or JupyterLab Notebook, it may mean\n",
       "  that the widgets JavaScript is still loading. If this message persists, it\n",
       "  likely means that the widgets JavaScript library is either not installed or\n",
       "  not enabled. See the <a href=\"https://ipywidgets.readthedocs.io/en/stable/user_install.html\">Jupyter\n",
       "  Widgets Documentation</a> for setup instructions.\n",
       "</p>\n",
       "<p>\n",
       "  If you're reading this message in another frontend (for example, a static\n",
       "  rendering on GitHub or <a href=\"https://nbviewer.jupyter.org/\">NBViewer</a>),\n",
       "  it may mean that your frontend doesn't currently support widgets.\n",
       "</p>\n"
      ],
      "text/plain": [
       "HBox(children=(IntProgress(value=0, max=132748), HTML(value='')))"
      ]
     },
     "metadata": {},
     "output_type": "display_data"
    },
    {
     "name": "stdout",
     "output_type": "stream",
     "text": [
      "\n"
     ]
    },
    {
     "data": {
      "application/vnd.jupyter.widget-view+json": {
       "model_id": "924e651bcd174b03a2257fb394bc49a5",
       "version_major": 2,
       "version_minor": 0
      },
      "text/html": [
       "<p>Failed to display Jupyter Widget of type <code>HBox</code>.</p>\n",
       "<p>\n",
       "  If you're reading this message in the Jupyter Notebook or JupyterLab Notebook, it may mean\n",
       "  that the widgets JavaScript is still loading. If this message persists, it\n",
       "  likely means that the widgets JavaScript library is either not installed or\n",
       "  not enabled. See the <a href=\"https://ipywidgets.readthedocs.io/en/stable/user_install.html\">Jupyter\n",
       "  Widgets Documentation</a> for setup instructions.\n",
       "</p>\n",
       "<p>\n",
       "  If you're reading this message in another frontend (for example, a static\n",
       "  rendering on GitHub or <a href=\"https://nbviewer.jupyter.org/\">NBViewer</a>),\n",
       "  it may mean that your frontend doesn't currently support widgets.\n",
       "</p>\n"
      ],
      "text/plain": [
       "HBox(children=(IntProgress(value=0, max=132748), HTML(value='')))"
      ]
     },
     "metadata": {},
     "output_type": "display_data"
    },
    {
     "name": "stdout",
     "output_type": "stream",
     "text": [
      "\n"
     ]
    },
    {
     "data": {
      "application/vnd.jupyter.widget-view+json": {
       "model_id": "d5f97adbd1c9422292b66e51a3ebc29d",
       "version_major": 2,
       "version_minor": 0
      },
      "text/html": [
       "<p>Failed to display Jupyter Widget of type <code>HBox</code>.</p>\n",
       "<p>\n",
       "  If you're reading this message in the Jupyter Notebook or JupyterLab Notebook, it may mean\n",
       "  that the widgets JavaScript is still loading. If this message persists, it\n",
       "  likely means that the widgets JavaScript library is either not installed or\n",
       "  not enabled. See the <a href=\"https://ipywidgets.readthedocs.io/en/stable/user_install.html\">Jupyter\n",
       "  Widgets Documentation</a> for setup instructions.\n",
       "</p>\n",
       "<p>\n",
       "  If you're reading this message in another frontend (for example, a static\n",
       "  rendering on GitHub or <a href=\"https://nbviewer.jupyter.org/\">NBViewer</a>),\n",
       "  it may mean that your frontend doesn't currently support widgets.\n",
       "</p>\n"
      ],
      "text/plain": [
       "HBox(children=(IntProgress(value=0, max=132748), HTML(value='')))"
      ]
     },
     "metadata": {},
     "output_type": "display_data"
    },
    {
     "name": "stdout",
     "output_type": "stream",
     "text": [
      "\n"
     ]
    },
    {
     "data": {
      "application/vnd.jupyter.widget-view+json": {
       "model_id": "967a018e11ab406698dbaf7f2630fefa",
       "version_major": 2,
       "version_minor": 0
      },
      "text/html": [
       "<p>Failed to display Jupyter Widget of type <code>HBox</code>.</p>\n",
       "<p>\n",
       "  If you're reading this message in the Jupyter Notebook or JupyterLab Notebook, it may mean\n",
       "  that the widgets JavaScript is still loading. If this message persists, it\n",
       "  likely means that the widgets JavaScript library is either not installed or\n",
       "  not enabled. See the <a href=\"https://ipywidgets.readthedocs.io/en/stable/user_install.html\">Jupyter\n",
       "  Widgets Documentation</a> for setup instructions.\n",
       "</p>\n",
       "<p>\n",
       "  If you're reading this message in another frontend (for example, a static\n",
       "  rendering on GitHub or <a href=\"https://nbviewer.jupyter.org/\">NBViewer</a>),\n",
       "  it may mean that your frontend doesn't currently support widgets.\n",
       "</p>\n"
      ],
      "text/plain": [
       "HBox(children=(IntProgress(value=0, max=132748), HTML(value='')))"
      ]
     },
     "metadata": {},
     "output_type": "display_data"
    },
    {
     "name": "stdout",
     "output_type": "stream",
     "text": [
      "\n"
     ]
    },
    {
     "data": {
      "application/vnd.jupyter.widget-view+json": {
       "model_id": "2fceb54b2622479990be07ca4370ec2b",
       "version_major": 2,
       "version_minor": 0
      },
      "text/html": [
       "<p>Failed to display Jupyter Widget of type <code>HBox</code>.</p>\n",
       "<p>\n",
       "  If you're reading this message in the Jupyter Notebook or JupyterLab Notebook, it may mean\n",
       "  that the widgets JavaScript is still loading. If this message persists, it\n",
       "  likely means that the widgets JavaScript library is either not installed or\n",
       "  not enabled. See the <a href=\"https://ipywidgets.readthedocs.io/en/stable/user_install.html\">Jupyter\n",
       "  Widgets Documentation</a> for setup instructions.\n",
       "</p>\n",
       "<p>\n",
       "  If you're reading this message in another frontend (for example, a static\n",
       "  rendering on GitHub or <a href=\"https://nbviewer.jupyter.org/\">NBViewer</a>),\n",
       "  it may mean that your frontend doesn't currently support widgets.\n",
       "</p>\n"
      ],
      "text/plain": [
       "HBox(children=(IntProgress(value=0, max=132748), HTML(value='')))"
      ]
     },
     "metadata": {},
     "output_type": "display_data"
    },
    {
     "name": "stdout",
     "output_type": "stream",
     "text": [
      "\n"
     ]
    },
    {
     "data": {
      "application/vnd.jupyter.widget-view+json": {
       "model_id": "e0bd0260591940c89963b15131341592",
       "version_major": 2,
       "version_minor": 0
      },
      "text/html": [
       "<p>Failed to display Jupyter Widget of type <code>HBox</code>.</p>\n",
       "<p>\n",
       "  If you're reading this message in the Jupyter Notebook or JupyterLab Notebook, it may mean\n",
       "  that the widgets JavaScript is still loading. If this message persists, it\n",
       "  likely means that the widgets JavaScript library is either not installed or\n",
       "  not enabled. See the <a href=\"https://ipywidgets.readthedocs.io/en/stable/user_install.html\">Jupyter\n",
       "  Widgets Documentation</a> for setup instructions.\n",
       "</p>\n",
       "<p>\n",
       "  If you're reading this message in another frontend (for example, a static\n",
       "  rendering on GitHub or <a href=\"https://nbviewer.jupyter.org/\">NBViewer</a>),\n",
       "  it may mean that your frontend doesn't currently support widgets.\n",
       "</p>\n"
      ],
      "text/plain": [
       "HBox(children=(IntProgress(value=0, max=132748), HTML(value='')))"
      ]
     },
     "metadata": {},
     "output_type": "display_data"
    },
    {
     "name": "stdout",
     "output_type": "stream",
     "text": [
      "\n"
     ]
    },
    {
     "data": {
      "application/vnd.jupyter.widget-view+json": {
       "model_id": "67f2dff990df40abb8fd31b57ced3d06",
       "version_major": 2,
       "version_minor": 0
      },
      "text/html": [
       "<p>Failed to display Jupyter Widget of type <code>HBox</code>.</p>\n",
       "<p>\n",
       "  If you're reading this message in the Jupyter Notebook or JupyterLab Notebook, it may mean\n",
       "  that the widgets JavaScript is still loading. If this message persists, it\n",
       "  likely means that the widgets JavaScript library is either not installed or\n",
       "  not enabled. See the <a href=\"https://ipywidgets.readthedocs.io/en/stable/user_install.html\">Jupyter\n",
       "  Widgets Documentation</a> for setup instructions.\n",
       "</p>\n",
       "<p>\n",
       "  If you're reading this message in another frontend (for example, a static\n",
       "  rendering on GitHub or <a href=\"https://nbviewer.jupyter.org/\">NBViewer</a>),\n",
       "  it may mean that your frontend doesn't currently support widgets.\n",
       "</p>\n"
      ],
      "text/plain": [
       "HBox(children=(IntProgress(value=0, max=132748), HTML(value='')))"
      ]
     },
     "metadata": {},
     "output_type": "display_data"
    },
    {
     "name": "stdout",
     "output_type": "stream",
     "text": [
      "\n"
     ]
    }
   ],
   "source": [
    "runningLoss = []\n",
    "printLoss = []\n",
    "epoch = 0\n",
    "while epoch < params['epoch_limit']:\n",
    "    epoch += 1\n",
    "    L = len(trainLoader.dataset)\n",
    "    pbar = tqdm(total = L)\n",
    "    for i, batchData in enumerate(trainLoader):\n",
    "        users = torch.LongTensor(batchData['user'])#.to(Rating.device)\n",
    "#         print(users.shape)\n",
    "        items = torch.LongTensor(batchData['item'])#.to(Rating.device)\n",
    "#         print(items.shape)\n",
    "        pre_r = model.forward(users, items).view(-1)\n",
    "#         print(pre_r.shape)\n",
    "        r = torch.FloatTensor(batchData['rating'])#.to(Rating.device)\n",
    "#         print(r)\n",
    "        \n",
    "        loss = criterion(pre_r,r)\n",
    "        optimizer.zero_grad()\n",
    "#         print(loss)\n",
    "        runningLoss.append(loss.item())\n",
    "        if (i+1) % 50 == 0:\n",
    "            printLoss.append(np.mean(np.array(runningLoss[-50:])))\n",
    "        if (i+1) >= 50:\n",
    "            pbar.set_postfix({'loss' : '{0:1.5f}'.format(np.mean(np.array(runningLoss[-50:])))})\n",
    "            \n",
    "        loss.backward()\n",
    "        optimizer.step()\n",
    "        \n",
    "        pbar.update(users.shape[0])\n",
    "    pbar.close()\n",
    "    \n",
    "#     with torch.no_grad():\n",
    "#         L = len(valLoader.dataset)\n",
    "#         pbar = tqdm(total = L)\n",
    "#         scoreDict = dict()\n",
    "#         for i, batchData in enumerate(valLoader):\n",
    "#             if i > 1000:\n",
    "#                 break\n",
    "#             user = torch.LongTensor(batchData['user']).to(model.device)\n",
    "#             posItems = torch.LongTensor(batchData['posItem']).to(model.device)\n",
    "#             negItems = torch.LongTensor(batchData['negItem']).to(model.device)\n",
    "#             items = torch.cat((posItems, negItems),1).view(-1)\n",
    "#             users = user.expand(items.shape[0])\n",
    "#             out = model.forward(users,items)\n",
    "#             # print(\"user: \\n\" + str(user))\n",
    "#             # print(\"posItems: \\n\" + str(posItems))\n",
    "#             # print(\"negItems: \\n\" + str(negItems))\n",
    "#             # print(\"items: \\n\" + str(items))\n",
    "#             # print(\"users: \\n\" + str(users))\n",
    "#             # print(\"out: \\n\" + str(out))\n",
    "#             # print(\"model: \\n\" + str(model.))\n",
    "#             # input()\n",
    "#             # pdb.set_trace()\n",
    "#             scoreHeap = list()\n",
    "#             for j in range(out.shape[0]):\n",
    "#                 gt = False\n",
    "#                 if j < posItems.shape[1]:\n",
    "#                     gt = True\n",
    "#                 # if prices[j] > budget:\n",
    "#                 #     heappush(scoreHeap, (100, (0 + items[j].cpu().numpy(), gt)))\n",
    "#                 # else:\n",
    "#                 #     heappush(scoreHeap, (1 - out[j].cpu().numpy(), (0 + items[j].cpu().numpy(), gt)))\n",
    "#                 heappush(scoreHeap, (1 - out[j].cpu().numpy(), (0 + items[j].cpu().numpy(), gt)))\n",
    "#             scores = list()\n",
    "#             candidate = len(scoreHeap)\n",
    "#             for k in range(candidate):\n",
    "#                 scores.append(heappop(scoreHeap))\n",
    "#             pbar.update(1)\n",
    "#             scoreDict[user[0]] = (scores, posItems.shape[1])\n",
    "#         pbar.close()\n",
    "#     valResult = evaluation.ranking_performance(scoreDict,10)\n",
    "\n"
   ]
  },
  {
   "cell_type": "markdown",
   "metadata": {},
   "source": [
    "[19853, 3819, 4], [12437, 12559, 5], [18452, 12559, 5], \n",
    "[18713, 12559, 5], [6165, 12559, 5], [2471, 12559, 4],\n",
    "[16993, 34058, 2]"
   ]
  },
  {
   "cell_type": "code",
   "execution_count": 17,
   "metadata": {},
   "outputs": [
    {
     "data": {
      "text/plain": [
       "tensor([[4.3069],\n",
       "        [4.1740],\n",
       "        [4.9030],\n",
       "        [4.8148],\n",
       "        [3.4789],\n",
       "        [4.5673],\n",
       "        [3.8936]], grad_fn=<AddBackward0>)"
      ]
     },
     "execution_count": 17,
     "metadata": {},
     "output_type": "execute_result"
    }
   ],
   "source": [
    "model.forward(torch.LongTensor([19853,12437,18452,18713,6165,2471,16993]),\n",
    "              torch.LongTensor([3819,12559,12559,12559,12559,12559,34058]))"
   ]
  },
  {
   "cell_type": "code",
   "execution_count": 36,
   "metadata": {},
   "outputs": [
    {
     "data": {
      "application/vnd.jupyter.widget-view+json": {
       "model_id": "3ee99c4c56964c4f9906703bc028aa98",
       "version_major": 2,
       "version_minor": 0
      },
      "text/html": [
       "<p>Failed to display Jupyter Widget of type <code>HBox</code>.</p>\n",
       "<p>\n",
       "  If you're reading this message in the Jupyter Notebook or JupyterLab Notebook, it may mean\n",
       "  that the widgets JavaScript is still loading. If this message persists, it\n",
       "  likely means that the widgets JavaScript library is either not installed or\n",
       "  not enabled. See the <a href=\"https://ipywidgets.readthedocs.io/en/stable/user_install.html\">Jupyter\n",
       "  Widgets Documentation</a> for setup instructions.\n",
       "</p>\n",
       "<p>\n",
       "  If you're reading this message in another frontend (for example, a static\n",
       "  rendering on GitHub or <a href=\"https://nbviewer.jupyter.org/\">NBViewer</a>),\n",
       "  it may mean that your frontend doesn't currently support widgets.\n",
       "</p>\n"
      ],
      "text/plain": [
       "HBox(children=(IntProgress(value=0, max=23894), HTML(value='')))"
      ]
     },
     "metadata": {},
     "output_type": "display_data"
    },
    {
     "name": "stdout",
     "output_type": "stream",
     "text": [
      "\tPrecision@: {1:0.00364108144304; 5: 0.00429396501214; 10: 0.00443626014899}\n",
      "\tRecall@: {1:0.00246324374453; 5: 0.0149880222879; 10: 0.0312779252044}\n",
      "\tNDCG@: {1:0.00364108144304; 5: 0.0107420319783; 10: 0.0163403002463}\n"
     ]
    },
    {
     "data": {
      "text/plain": [
       "{'avg_ndcg': array([ 0.00364108,  0.00615217,  0.00774492,  0.00930256,  0.01074203,\n",
       "         0.01205546,  0.01321699,  0.01430996,  0.01539065,  0.0163403 ,\n",
       "         0.01732194,  0.01854086,  0.01957377,  0.02049086,  0.02145732,\n",
       "         0.02255016,  0.02369756,  0.02462053,  0.02559351,  0.02655857,\n",
       "         0.02745765,  0.02830011,  0.02926516,  0.03029609,  0.03111665,\n",
       "         0.03223294,  0.03322141,  0.03409447,  0.03490758,  0.03577644,\n",
       "         0.03668003,  0.0375892 ,  0.03856583,  0.03938466,  0.0402672 ,\n",
       "         0.04110878,  0.04204995,  0.04298151,  0.04390029,  0.04479513,\n",
       "         0.04572542,  0.04671051,  0.04774645,  0.04858103,  0.04945726,\n",
       "         0.05038287,  0.05137249,  0.05235649,  0.05349036,  0.0544058 ,\n",
       "         0.05529926,  0.05632381,  0.05729758,  0.05830593,  0.0593414 ,\n",
       "         0.06026597,  0.06135209,  0.06244597,  0.06342913,  0.06447865,\n",
       "         0.06549584,  0.06651716,  0.06750972,  0.0684365 ,  0.06945526,\n",
       "         0.0705972 ,  0.07166506,  0.0727208 ,  0.07387573,  0.07494001,\n",
       "         0.07585864,  0.0768414 ,  0.07792586,  0.07889616,  0.07991522,\n",
       "         0.0809435 ,  0.08186191,  0.08288765,  0.08403405,  0.08507898,\n",
       "         0.08605853,  0.08706785,  0.0880751 ,  0.08918352,  0.09021301,\n",
       "         0.09119563,  0.09225397,  0.09326753,  0.09431384,  0.09520578,\n",
       "         0.09621465,  0.09720952,  0.09821273,  0.09920122,  0.10016946,\n",
       "         0.10119187,  0.10227934,  0.10321525,  0.10413483,  0.10499268]),\n",
       " 'avg_precision': array([ 0.00364108,  0.0040596 ,  0.00401775,  0.00412237,  0.00429397,\n",
       "         0.00435256,  0.00440039,  0.00441533,  0.00443626,  0.00443626,\n",
       "         0.00444767,  0.00457577,  0.00463908,  0.00463057,  0.00465668,\n",
       "         0.00473445,  0.00482277,  0.0048571 ,  0.00490764,  0.00493429,\n",
       "         0.00496439,  0.00497843,  0.005024  ,  0.00510065,  0.00512095,\n",
       "         0.00518637,  0.00523299,  0.00525685,  0.00527185,  0.00529701,\n",
       "         0.00532594,  0.0053583 ,  0.00540138,  0.00542223,  0.0054395 ,\n",
       "         0.0054593 ,  0.0054882 ,  0.0055222 ,  0.00554908,  0.00558195,\n",
       "         0.00561831,  0.00565593,  0.00569667,  0.00572224,  0.00575133,\n",
       "         0.00577551,  0.00581291,  0.00584875,  0.00590363,  0.00592031,\n",
       "         0.00594045,  0.00597913,  0.00601398,  0.00605142,  0.00609282,\n",
       "         0.0061163 ,  0.00616319,  0.00621351,  0.00624581,  0.00627773,\n",
       "         0.0063086 ,  0.00633308,  0.00636409,  0.00638889,  0.00641938,\n",
       "         0.00646733,  0.00650635,  0.00654361,  0.00658403,  0.00662689,\n",
       "         0.00664673,  0.0066759 ,  0.00670828,  0.00673187,  0.00675986,\n",
       "         0.00678931,  0.00680875,  0.00683736,  0.00687636,  0.00690184,\n",
       "         0.00692255,  0.0069448 ,  0.00696097,  0.00699518,  0.00701776,\n",
       "         0.00703251,  0.00705703,  0.00707861,  0.00710065,  0.00711197,\n",
       "         0.00713269,  0.00714797,  0.00716336,  0.00718288,  0.00719934,\n",
       "         0.00721982,  0.00724376,  0.00725953,  0.00727413,  0.00727756]),\n",
       " 'avg_recall': array([ 0.00246324,  0.0054497 ,  0.00837812,  0.01162934,  0.01498802,\n",
       "         0.01836233,  0.02158189,  0.02481885,  0.02818994,  0.03127793,\n",
       "         0.03459449,  0.03886064,  0.04261073,  0.04605591,  0.04976766,\n",
       "         0.0540396 ,  0.05865332,  0.06241756,  0.06644491,  0.07054369,\n",
       "         0.07438589,  0.07805166,  0.08233432,  0.08691307,  0.09061779,\n",
       "         0.09575855,  0.10036141,  0.10445803,  0.10828821,  0.1124469 ,\n",
       "         0.11682648,  0.12126083,  0.12608782,  0.13013844,  0.13457315,\n",
       "         0.13880379,  0.14360615,  0.14837907,  0.15313008,  0.15777275,\n",
       "         0.16261224,  0.16780851,  0.17333584,  0.17774074,  0.18242633,\n",
       "         0.18745801,  0.19283299,  0.19818968,  0.20443044,  0.20950602,\n",
       "         0.21446328,  0.22018718,  0.22561943,  0.2312658 ,  0.23709911,\n",
       "         0.24234216,  0.24851419,  0.25476448,  0.26038705,  0.26649126,\n",
       "         0.27238885,  0.27836229,  0.28417714,  0.28958948,  0.29558885,\n",
       "         0.30232783,  0.30864549,  0.31494877,  0.32185902,  0.32819913,\n",
       "         0.33369867,  0.3396041 ,  0.3461722 ,  0.35205385,  0.35824809,\n",
       "         0.36451316,  0.37010962,  0.3763978 ,  0.38346987,  0.38994061,\n",
       "         0.39599737,  0.40227718,  0.40859074,  0.4155151 ,  0.42197369,\n",
       "         0.42817869,  0.43484607,  0.44126196,  0.44790322,  0.4535517 ,\n",
       "         0.4599769 ,  0.46632582,  0.47276393,  0.47907587,  0.48527969,\n",
       "         0.49187099,  0.49892049,  0.50494438,  0.5108803 ,  0.51648374])}"
      ]
     },
     "execution_count": 36,
     "metadata": {},
     "output_type": "execute_result"
    }
   ],
   "source": [
    "import analyse\n",
    "\n",
    "L = len(testLoader.dataset)\n",
    "pbar = tqdm(total = L)\n",
    "model.eval()\n",
    "with torch.no_grad():\n",
    "    scoreDict = dict()\n",
    "    for i, batchData in enumerate(testLoader):\n",
    "\n",
    "        # iterate through each user\n",
    "\n",
    "        # get input\n",
    "        users = torch.LongTensor(batchData['user']).to(model.device) # users\n",
    "#         print(users.shape)\n",
    "        items = torch.LongTensor(batchData['posItem']).to(model.device) # items\n",
    "#         print(items.shape)\n",
    "        negItems = torch.LongTensor(batchData['negItem']).to(model.device) # items\n",
    "#         print(negItems.shape)\n",
    "        \n",
    "        nNeg = params[\"negNum_test\"] \n",
    "        items = items.view(-1)\n",
    "#         print(items.shape)\n",
    "        posUsers = users.view(-1).expand(items.shape[0])\n",
    "#         print(users.shape)\n",
    "        \n",
    "        nNeg = params[\"negNum_test\"] \n",
    "#             labels = torch.FloatTensor(batchData[\"label\"]).to(model.device) # ratings\n",
    "        # forward for possitive samples\n",
    "        pOut = model.forward(posUsers, items) # ranking score of positive samples\n",
    "        pOut = pOut.view(-1)\n",
    "#         print(pOut)\n",
    "        \n",
    "        # forward for negative samples\n",
    "        npUsers = users.view(-1).expand(negItems.shape[0])\n",
    "        negItems = negItems.view(-1)\n",
    "#         print(negItems.shape)\n",
    "         \n",
    "        npUsers = npUsers.expand(npUsers.shape[0], nNeg) # users expanded to match negative samples\n",
    "#         print(npUsers.shape)\n",
    "        nOut = model.forward(npUsers.reshape(-1), negItems.reshape(-1)) # ranking score of negative samples\n",
    "        nOut = nOut.reshape(-1)\n",
    "#         print(nOut.shape)\n",
    "        \n",
    "        # record scores\n",
    "        scoreHeap = list()\n",
    "        for j in range(pOut.shape[0]):\n",
    "            gt = True\n",
    "            heappush(scoreHeap, (1 - pOut[j].cpu().numpy(), (0 + items[j].cpu().numpy(), gt)))\n",
    "        for j in range(nOut.shape[0]):\n",
    "            gt = False\n",
    "            heappush(scoreHeap, (1 - nOut[j].cpu().numpy(), (0 + negItems[j].cpu().numpy(), gt)))\n",
    "        scores = list()\n",
    "        for k in range(len(scoreHeap)):\n",
    "            scores.append(heappop(scoreHeap))\n",
    "        # progress report\n",
    "        pbar.update(1)\n",
    "        scoreDict[users[0]] = (scores, items.shape[0])\n",
    "pbar.close()\n",
    "\n",
    "# save validation result\n",
    "analyse.ranking_analysis(scoreDict, 100)"
   ]
  },
  {
   "cell_type": "code",
   "execution_count": 37,
   "metadata": {},
   "outputs": [
    {
     "data": {
      "application/vnd.jupyter.widget-view+json": {
       "model_id": "b084a810692e402f99fccf5791aae90e",
       "version_major": 2,
       "version_minor": 0
      },
      "text/html": [
       "<p>Failed to display Jupyter Widget of type <code>HBox</code>.</p>\n",
       "<p>\n",
       "  If you're reading this message in the Jupyter Notebook or JupyterLab Notebook, it may mean\n",
       "  that the widgets JavaScript is still loading. If this message persists, it\n",
       "  likely means that the widgets JavaScript library is either not installed or\n",
       "  not enabled. See the <a href=\"https://ipywidgets.readthedocs.io/en/stable/user_install.html\">Jupyter\n",
       "  Widgets Documentation</a> for setup instructions.\n",
       "</p>\n",
       "<p>\n",
       "  If you're reading this message in another frontend (for example, a static\n",
       "  rendering on GitHub or <a href=\"https://nbviewer.jupyter.org/\">NBViewer</a>),\n",
       "  it may mean that your frontend doesn't currently support widgets.\n",
       "</p>\n"
      ],
      "text/plain": [
       "HBox(children=(IntProgress(value=0, max=23894), HTML(value='')))"
      ]
     },
     "metadata": {},
     "output_type": "display_data"
    },
    {
     "name": "stdout",
     "output_type": "stream",
     "text": [
      "\tPrecision@: {1:0.00397589352976; 5: 0.00424374319913; 10: 0.00458274043693}\n",
      "\tRecall@: {1:0.00302533278594; 5: 0.0150665711985; 10: 0.0321772308109}\n",
      "\tNDCG@: {1:0.00397589352976; 5: 0.0110482850398; 10: 0.0169196694632}\n"
     ]
    }
   ],
   "source": [
    "L = len(testLoader.dataset)\n",
    "pbar = tqdm(total = L)\n",
    "model.eval()\n",
    "with torch.no_grad():\n",
    "    scoreDict = dict()\n",
    "    for i, batchData in enumerate(testLoader):\n",
    "        user = torch.LongTensor(batchData['user']).to(model.device)\n",
    "        posItems = torch.LongTensor(batchData['posItem']).to(model.device)\n",
    "        negItems = torch.LongTensor(batchData['negItem']).to(model.device)\n",
    "        items = torch.cat((posItems, negItems),1).view(-1)\n",
    "        users = user.expand(items.shape[0])\n",
    "        out = model.forward(users,items)\n",
    "        scoreHeap = list()\n",
    "        for j in range(out.shape[0]):\n",
    "            gt = False\n",
    "            if j < posItems.shape[1]:\n",
    "                gt = True\n",
    "            # if prices[j] > budget:\n",
    "            #     heappush(scoreHeap, (100, (0 + items[j].cpu().numpy(), gt)))\n",
    "            # else:\n",
    "            #     heappush(scoreHeap, (1 - out[j].cpu().numpy(), (0 + items[j].cpu().numpy(), gt)))\n",
    "            heappush(scoreHeap, (1 - out[j].cpu().numpy(), (0 + items[j].cpu().numpy(), gt)))\n",
    "        scores = list()\n",
    "        candidate = len(scoreHeap)\n",
    "        for k in range(candidate):\n",
    "            scores.append(heappop(scoreHeap))\n",
    "        pbar.update(1)\n",
    "        scoreDict[user[0]] = (scores, posItems.shape[1])\n",
    "    pbar.close()\n",
    "testResult = evaluation.ranking_performance(scoreDict,10)"
   ]
  },
  {
   "cell_type": "code",
   "execution_count": null,
   "metadata": {},
   "outputs": [],
   "source": [
    "i = 0\n",
    "for k,v in scoreDict.items():\n",
    "    print (v)\n",
    "    i += 1\n",
    "    if i == 10:\n",
    "        break"
   ]
  },
  {
   "cell_type": "code",
   "execution_count": 17,
   "metadata": {},
   "outputs": [],
   "source": [
    "b = torch.LongTensor([[1,10,1100,23000,20000],[1,10,1100,23000,20000],[1,10,1100,23000,20000]])\n",
    "a = torch.LongTensor([[20000,9999,776,28,1000],[20000,9999,776,28,1000],[20000,9999,776,28,1000]])"
   ]
  },
  {
   "cell_type": "code",
   "execution_count": 18,
   "metadata": {},
   "outputs": [
    {
     "name": "stdout",
     "output_type": "stream",
     "text": [
      "tensor([[21617590],\n",
      "        [21617590],\n",
      "        [21617590]])\n"
     ]
    }
   ],
   "source": [
    "print(torch.mul(a, b).sum(1).view(-1,1))"
   ]
  },
  {
   "cell_type": "code",
   "execution_count": 19,
   "metadata": {},
   "outputs": [
    {
     "data": {
      "text/plain": [
       "torch.Size([3, 5])"
      ]
     },
     "execution_count": 19,
     "metadata": {},
     "output_type": "execute_result"
    }
   ],
   "source": [
    "b.shape"
   ]
  },
  {
   "cell_type": "code",
   "execution_count": 20,
   "metadata": {},
   "outputs": [],
   "source": [
    "c = b.view(-1,1)\n",
    "d = b.view(-1)"
   ]
  },
  {
   "cell_type": "code",
   "execution_count": 22,
   "metadata": {},
   "outputs": [
    {
     "data": {
      "text/plain": [
       "torch.Size([15, 15])"
      ]
     },
     "execution_count": 22,
     "metadata": {},
     "output_type": "execute_result"
    }
   ],
   "source": [
    "torch.mul(c,d).shape"
   ]
  },
  {
   "cell_type": "code",
   "execution_count": 23,
   "metadata": {},
   "outputs": [
    {
     "data": {
      "text/plain": [
       "torch.Size([15, 15])"
      ]
     },
     "execution_count": 23,
     "metadata": {},
     "output_type": "execute_result"
    }
   ],
   "source": [
    "(c*d).shape"
   ]
  },
  {
   "cell_type": "code",
   "execution_count": 26,
   "metadata": {},
   "outputs": [
    {
     "data": {
      "text/plain": [
       "torch.Size([15, 15])"
      ]
     },
     "execution_count": 26,
     "metadata": {},
     "output_type": "execute_result"
    }
   ],
   "source": [
    "(c+d).shape"
   ]
  },
  {
   "cell_type": "code",
   "execution_count": null,
   "metadata": {},
   "outputs": [],
   "source": []
  }
 ],
 "metadata": {
  "kernelspec": {
   "display_name": "Python 3",
   "language": "python",
   "name": "python3"
  },
  "language_info": {
   "codemirror_mode": {
    "name": "ipython",
    "version": 3
   },
   "file_extension": ".py",
   "mimetype": "text/x-python",
   "name": "python",
   "nbconvert_exporter": "python",
   "pygments_lexer": "ipython3",
   "version": "3.6.4"
  },
  "toc": {
   "base_numbering": 1,
   "nav_menu": {},
   "number_sections": true,
   "sideBar": true,
   "skip_h1_title": false,
   "title_cell": "Table of Contents",
   "title_sidebar": "Contents",
   "toc_cell": false,
   "toc_position": {},
   "toc_section_display": true,
   "toc_window_display": false
  },
  "varInspector": {
   "cols": {
    "lenName": 16,
    "lenType": 16,
    "lenVar": 40
   },
   "kernels_config": {
    "python": {
     "delete_cmd_postfix": "",
     "delete_cmd_prefix": "del ",
     "library": "var_list.py",
     "varRefreshCmd": "print(var_dic_list())"
    },
    "r": {
     "delete_cmd_postfix": ") ",
     "delete_cmd_prefix": "rm(",
     "library": "var_list.r",
     "varRefreshCmd": "cat(var_dic_list()) "
    }
   },
   "types_to_exclude": [
    "module",
    "function",
    "builtin_function_or_method",
    "instance",
    "_Feature"
   ],
   "window_display": false
  }
 },
 "nbformat": 4,
 "nbformat_minor": 2
}
