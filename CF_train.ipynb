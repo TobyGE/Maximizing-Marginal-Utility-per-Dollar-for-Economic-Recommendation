{
 "cells": [
  {
   "cell_type": "code",
   "execution_count": 1,
   "metadata": {},
   "outputs": [],
   "source": [
    "import numpy as np\n",
    "import torch\n",
    "import torch.nn as nn\n",
    "import torch.optim as opt\n",
    "# from tqdm import tqdm\n",
    "from tqdm import tqdm_notebook as tqdm\n",
    "from heapq import heappush, heappop\n",
    "from torch.utils.data import Dataset, DataLoader\n",
    "import matplotlib.pyplot as plt\n",
    "import math\n",
    "import evaluation\n",
    "import data_loader\n",
    "# from model import MF, MUD\n",
    "# import pdb\n",
    "# import torchsnooper"
   ]
  },
  {
   "cell_type": "code",
   "execution_count": 27,
   "metadata": {},
   "outputs": [],
   "source": [
    "class MF(nn.Module):\n",
    "    \"\"\"\n",
    "        - userLen: the number of users\n",
    "        - itemLen: the number of items\n",
    "        - params: the parameters dict used for constructing model\n",
    "            - l_size: latent dimension size\n",
    "            - gpu: True/False, whether using GPU\n",
    "            \n",
    "    \"\"\"\n",
    "    def __init__(self, userLen, itemLen, avg_rating, params):\n",
    "        super(MF, self).__init__()\n",
    "        self.userNum = userLen\n",
    "        self.itemNum = itemLen\n",
    "        self.params = params\n",
    "        if 'gpu' in params and params['gpu'] == True:\n",
    "            self.device = 'cuda:0'\n",
    "        else:\n",
    "            self.device = 'cpu'\n",
    "\n",
    "        l_size = params['l_size']\n",
    "        \n",
    "        \"\"\"\n",
    "            Initialize  global bias,\n",
    "                        user bias,\n",
    "                        item bias,\n",
    "                        user embedding,\n",
    "                        item embedding\n",
    "        \"\"\"\n",
    "        self.globalBias = avg_rating.to(self.device)\n",
    "        \n",
    "        self.uBias = nn.Embedding(userLen,1).to(self.device)\n",
    "        self.uBias.weight.data = torch.zeros_like(self.uBias.weight.data)\n",
    "        \n",
    "        self.itemBias = nn.Embedding(itemLen,1).to(self.device)\n",
    "        self.itemBias.weight.data = torch.zeros_like(self.itemBias.weight.data)\n",
    "        \n",
    "#         a = math.sqrt(2.0 / params['l_size'])\n",
    "        self.uEmbed = nn.Embedding(userLen, l_size).to(self.device)\n",
    "        self.uEmbed.weight.data.uniform_(-1, 1)\n",
    "        \n",
    "        self.itemEmbed = nn.Embedding(itemLen, l_size).to(self.device)\n",
    "        self.itemEmbed.weight.data.uniform_(-1, 1)\n",
    "    \n",
    "    def forward(self, users, items):\n",
    "        uE = self.uEmbed(users)\n",
    "#         print('uE:',uE.shape)\n",
    "        uB = self.uBias(users)\n",
    "#         print('uB:',uB.shape)\n",
    "        iE = self.itemEmbed(items)\n",
    "#         print('iE:',iE.shape)\n",
    "        iB = self.itemBias(items)\n",
    "#         print('iB:',iB.shape)\n",
    "#         gB = self.globalBias.expand(users.shape[0],1)\n",
    "#         print('mul(uE, iE):',(torch.mul(uE, iE).sum(1)).shape)\n",
    "        score = self.globalBias + uB + iB + torch.mul(uE, iE).sum(1).view(-1,1)\n",
    "#         print((self.globalBias + uB + iB).shape)\n",
    "#         print(((uE*iE).sum(1)).shape)\n",
    "#         score = (self.globalBias + uB + iB).view(-1) + (uE*iE).sum(1)\n",
    "#         score = (uE*iE).sum(1)\n",
    "#         print(score.shape)\n",
    "        return score\n",
    "        "
   ]
  },
  {
   "cell_type": "code",
   "execution_count": 11,
   "metadata": {},
   "outputs": [],
   "source": [
    "params = dict()\n",
    "params['lr'] = 1e-1\n",
    "params['negNum_train'] = 3\n",
    "params[\"negNum_test\"] = 1000\n",
    "params['epoch_limit'] = 20\n",
    "params['w_decay'] = 0\n",
    "params['batch_size'] = 64\n",
    "params['gpu'] = False\n",
    "params['l_size'] = 16\n",
    "params['epsilon'] = 0.01"
   ]
  },
  {
   "cell_type": "code",
   "execution_count": 4,
   "metadata": {},
   "outputs": [],
   "source": [
    "category = 'Baby'"
   ]
  },
  {
   "cell_type": "code",
   "execution_count": 5,
   "metadata": {},
   "outputs": [],
   "source": [
    "train, val, test = data_loader.read_data(category)\n",
    "item_price = data_loader.get_price(category)\n",
    "item_related = data_loader.get_related(category)\n",
    "distribution = data_loader.get_distribution(category)"
   ]
  },
  {
   "cell_type": "code",
   "execution_count": 6,
   "metadata": {},
   "outputs": [
    {
     "name": "stdout",
     "output_type": "stream",
     "text": [
      "[19853, 3819, 4]\n"
     ]
    }
   ],
   "source": [
    "print(train[0])"
   ]
  },
  {
   "cell_type": "code",
   "execution_count": 7,
   "metadata": {},
   "outputs": [
    {
     "name": "stdout",
     "output_type": "stream",
     "text": [
      "Loading training, validation set...\n",
      "Finish loading training and validation set.\n",
      "Loading Testing set...\n",
      "Finish loading testing set.\n",
      "Average rating score of training set: 4.20\n"
     ]
    }
   ],
   "source": [
    "print('Loading training, validation set...')\n",
    "trainset = data_loader.TransactionData(train, item_related, \\\n",
    "            item_price, distribution)\n",
    "valset = data_loader.UserTransactionData(val, item_price, \\\n",
    "            trainset.itemNum, trainset.userHist)\n",
    "print('Finish loading training and validation set.')\n",
    "print('Loading Testing set...')\n",
    "testset = data_loader.UserTransactionData(test, item_price, \\\n",
    "            trainset.itemNum, trainset.userHist)\n",
    "print('Finish loading testing set.')\n",
    "avg_rating = trainset.get_avgRating()\n",
    "print('Average rating score of training set: %.2f' %avg_rating)\n",
    "\n"
   ]
  },
  {
   "cell_type": "code",
   "execution_count": 28,
   "metadata": {},
   "outputs": [
    {
     "name": "stdout",
     "output_type": "stream",
     "text": [
      "Finish data loading, start model preparing...\n"
     ]
    }
   ],
   "source": [
    "print('Finish data loading, start model preparing...')\n",
    "model = MF(userLen = trainset.userNum, itemLen = trainset.itemNum,\\\n",
    "        avg_rating = avg_rating, params = params)\n",
    "optimizer = opt.SGD(model.parameters(), lr = params['lr'], weight_decay = params['w_decay'])\n",
    "criterion = nn.MSELoss()\n",
    "\n",
    "trainset.set_negN(params['negNum_train'])\n",
    "trainLoader = DataLoader(trainset, batch_size = params['batch_size'], \\\n",
    "        shuffle = True, num_workers = 1)\n",
    "\n",
    "valset.set_negN(params[\"negNum_test\"])\n",
    "valLoader = DataLoader(valset, batch_size = 1, shuffle = False, num_workers = 4)\n",
    "\n",
    "testset.set_negN(params[\"negNum_test\"])\n",
    "testLoader = DataLoader(testset, batch_size = 1, shuffle = False, num_workers = 4)"
   ]
  },
  {
   "cell_type": "code",
   "execution_count": null,
   "metadata": {},
   "outputs": [
    {
     "data": {
      "application/vnd.jupyter.widget-view+json": {
       "model_id": "b41f09a9800348ba84f86d8b686291f4",
       "version_major": 2,
       "version_minor": 0
      },
      "text/html": [
       "<p>Failed to display Jupyter Widget of type <code>HBox</code>.</p>\n",
       "<p>\n",
       "  If you're reading this message in the Jupyter Notebook or JupyterLab Notebook, it may mean\n",
       "  that the widgets JavaScript is still loading. If this message persists, it\n",
       "  likely means that the widgets JavaScript library is either not installed or\n",
       "  not enabled. See the <a href=\"https://ipywidgets.readthedocs.io/en/stable/user_install.html\">Jupyter\n",
       "  Widgets Documentation</a> for setup instructions.\n",
       "</p>\n",
       "<p>\n",
       "  If you're reading this message in another frontend (for example, a static\n",
       "  rendering on GitHub or <a href=\"https://nbviewer.jupyter.org/\">NBViewer</a>),\n",
       "  it may mean that your frontend doesn't currently support widgets.\n",
       "</p>\n"
      ],
      "text/plain": [
       "HBox(children=(IntProgress(value=0, max=132748), HTML(value='')))"
      ]
     },
     "metadata": {},
     "output_type": "display_data"
    },
    {
     "data": {
      "application/vnd.jupyter.widget-view+json": {
       "model_id": "c8f7a316189a40b7baceb4020be2e6d6",
       "version_major": 2,
       "version_minor": 0
      },
      "text/html": [
       "<p>Failed to display Jupyter Widget of type <code>HBox</code>.</p>\n",
       "<p>\n",
       "  If you're reading this message in the Jupyter Notebook or JupyterLab Notebook, it may mean\n",
       "  that the widgets JavaScript is still loading. If this message persists, it\n",
       "  likely means that the widgets JavaScript library is either not installed or\n",
       "  not enabled. See the <a href=\"https://ipywidgets.readthedocs.io/en/stable/user_install.html\">Jupyter\n",
       "  Widgets Documentation</a> for setup instructions.\n",
       "</p>\n",
       "<p>\n",
       "  If you're reading this message in another frontend (for example, a static\n",
       "  rendering on GitHub or <a href=\"https://nbviewer.jupyter.org/\">NBViewer</a>),\n",
       "  it may mean that your frontend doesn't currently support widgets.\n",
       "</p>\n"
      ],
      "text/plain": [
       "HBox(children=(IntProgress(value=0, max=132748), HTML(value='')))"
      ]
     },
     "metadata": {},
     "output_type": "display_data"
    },
    {
     "data": {
      "application/vnd.jupyter.widget-view+json": {
       "model_id": "c8aa44d8ff2b43d39c21de28bb626a10",
       "version_major": 2,
       "version_minor": 0
      },
      "text/html": [
       "<p>Failed to display Jupyter Widget of type <code>HBox</code>.</p>\n",
       "<p>\n",
       "  If you're reading this message in the Jupyter Notebook or JupyterLab Notebook, it may mean\n",
       "  that the widgets JavaScript is still loading. If this message persists, it\n",
       "  likely means that the widgets JavaScript library is either not installed or\n",
       "  not enabled. See the <a href=\"https://ipywidgets.readthedocs.io/en/stable/user_install.html\">Jupyter\n",
       "  Widgets Documentation</a> for setup instructions.\n",
       "</p>\n",
       "<p>\n",
       "  If you're reading this message in another frontend (for example, a static\n",
       "  rendering on GitHub or <a href=\"https://nbviewer.jupyter.org/\">NBViewer</a>),\n",
       "  it may mean that your frontend doesn't currently support widgets.\n",
       "</p>\n"
      ],
      "text/plain": [
       "HBox(children=(IntProgress(value=0, max=132748), HTML(value='')))"
      ]
     },
     "metadata": {},
     "output_type": "display_data"
    },
    {
     "data": {
      "application/vnd.jupyter.widget-view+json": {
       "model_id": "ece047fdb80f44ab9fa89d52ab1091a8",
       "version_major": 2,
       "version_minor": 0
      },
      "text/html": [
       "<p>Failed to display Jupyter Widget of type <code>HBox</code>.</p>\n",
       "<p>\n",
       "  If you're reading this message in the Jupyter Notebook or JupyterLab Notebook, it may mean\n",
       "  that the widgets JavaScript is still loading. If this message persists, it\n",
       "  likely means that the widgets JavaScript library is either not installed or\n",
       "  not enabled. See the <a href=\"https://ipywidgets.readthedocs.io/en/stable/user_install.html\">Jupyter\n",
       "  Widgets Documentation</a> for setup instructions.\n",
       "</p>\n",
       "<p>\n",
       "  If you're reading this message in another frontend (for example, a static\n",
       "  rendering on GitHub or <a href=\"https://nbviewer.jupyter.org/\">NBViewer</a>),\n",
       "  it may mean that your frontend doesn't currently support widgets.\n",
       "</p>\n"
      ],
      "text/plain": [
       "HBox(children=(IntProgress(value=0, max=132748), HTML(value='')))"
      ]
     },
     "metadata": {},
     "output_type": "display_data"
    },
    {
     "data": {
      "application/vnd.jupyter.widget-view+json": {
       "model_id": "54f3b2a9e40a4df8872330b4253c3cf5",
       "version_major": 2,
       "version_minor": 0
      },
      "text/html": [
       "<p>Failed to display Jupyter Widget of type <code>HBox</code>.</p>\n",
       "<p>\n",
       "  If you're reading this message in the Jupyter Notebook or JupyterLab Notebook, it may mean\n",
       "  that the widgets JavaScript is still loading. If this message persists, it\n",
       "  likely means that the widgets JavaScript library is either not installed or\n",
       "  not enabled. See the <a href=\"https://ipywidgets.readthedocs.io/en/stable/user_install.html\">Jupyter\n",
       "  Widgets Documentation</a> for setup instructions.\n",
       "</p>\n",
       "<p>\n",
       "  If you're reading this message in another frontend (for example, a static\n",
       "  rendering on GitHub or <a href=\"https://nbviewer.jupyter.org/\">NBViewer</a>),\n",
       "  it may mean that your frontend doesn't currently support widgets.\n",
       "</p>\n"
      ],
      "text/plain": [
       "HBox(children=(IntProgress(value=0, max=132748), HTML(value='')))"
      ]
     },
     "metadata": {},
     "output_type": "display_data"
    },
    {
     "data": {
      "application/vnd.jupyter.widget-view+json": {
       "model_id": "401086cdb53143bba722a7eb1ea4fdf5",
       "version_major": 2,
       "version_minor": 0
      },
      "text/html": [
       "<p>Failed to display Jupyter Widget of type <code>HBox</code>.</p>\n",
       "<p>\n",
       "  If you're reading this message in the Jupyter Notebook or JupyterLab Notebook, it may mean\n",
       "  that the widgets JavaScript is still loading. If this message persists, it\n",
       "  likely means that the widgets JavaScript library is either not installed or\n",
       "  not enabled. See the <a href=\"https://ipywidgets.readthedocs.io/en/stable/user_install.html\">Jupyter\n",
       "  Widgets Documentation</a> for setup instructions.\n",
       "</p>\n",
       "<p>\n",
       "  If you're reading this message in another frontend (for example, a static\n",
       "  rendering on GitHub or <a href=\"https://nbviewer.jupyter.org/\">NBViewer</a>),\n",
       "  it may mean that your frontend doesn't currently support widgets.\n",
       "</p>\n"
      ],
      "text/plain": [
       "HBox(children=(IntProgress(value=0, max=132748), HTML(value='')))"
      ]
     },
     "metadata": {},
     "output_type": "display_data"
    },
    {
     "data": {
      "application/vnd.jupyter.widget-view+json": {
       "model_id": "7cf8f2b8676748138caee336d2ac1787",
       "version_major": 2,
       "version_minor": 0
      },
      "text/html": [
       "<p>Failed to display Jupyter Widget of type <code>HBox</code>.</p>\n",
       "<p>\n",
       "  If you're reading this message in the Jupyter Notebook or JupyterLab Notebook, it may mean\n",
       "  that the widgets JavaScript is still loading. If this message persists, it\n",
       "  likely means that the widgets JavaScript library is either not installed or\n",
       "  not enabled. See the <a href=\"https://ipywidgets.readthedocs.io/en/stable/user_install.html\">Jupyter\n",
       "  Widgets Documentation</a> for setup instructions.\n",
       "</p>\n",
       "<p>\n",
       "  If you're reading this message in another frontend (for example, a static\n",
       "  rendering on GitHub or <a href=\"https://nbviewer.jupyter.org/\">NBViewer</a>),\n",
       "  it may mean that your frontend doesn't currently support widgets.\n",
       "</p>\n"
      ],
      "text/plain": [
       "HBox(children=(IntProgress(value=0, max=132748), HTML(value='')))"
      ]
     },
     "metadata": {},
     "output_type": "display_data"
    },
    {
     "data": {
      "application/vnd.jupyter.widget-view+json": {
       "model_id": "dea79d9acd89483e8e716af554204696",
       "version_major": 2,
       "version_minor": 0
      },
      "text/html": [
       "<p>Failed to display Jupyter Widget of type <code>HBox</code>.</p>\n",
       "<p>\n",
       "  If you're reading this message in the Jupyter Notebook or JupyterLab Notebook, it may mean\n",
       "  that the widgets JavaScript is still loading. If this message persists, it\n",
       "  likely means that the widgets JavaScript library is either not installed or\n",
       "  not enabled. See the <a href=\"https://ipywidgets.readthedocs.io/en/stable/user_install.html\">Jupyter\n",
       "  Widgets Documentation</a> for setup instructions.\n",
       "</p>\n",
       "<p>\n",
       "  If you're reading this message in another frontend (for example, a static\n",
       "  rendering on GitHub or <a href=\"https://nbviewer.jupyter.org/\">NBViewer</a>),\n",
       "  it may mean that your frontend doesn't currently support widgets.\n",
       "</p>\n"
      ],
      "text/plain": [
       "HBox(children=(IntProgress(value=0, max=132748), HTML(value='')))"
      ]
     },
     "metadata": {},
     "output_type": "display_data"
    },
    {
     "data": {
      "application/vnd.jupyter.widget-view+json": {
       "model_id": "7f27640817174cd09a1929ed35ef48da",
       "version_major": 2,
       "version_minor": 0
      },
      "text/html": [
       "<p>Failed to display Jupyter Widget of type <code>HBox</code>.</p>\n",
       "<p>\n",
       "  If you're reading this message in the Jupyter Notebook or JupyterLab Notebook, it may mean\n",
       "  that the widgets JavaScript is still loading. If this message persists, it\n",
       "  likely means that the widgets JavaScript library is either not installed or\n",
       "  not enabled. See the <a href=\"https://ipywidgets.readthedocs.io/en/stable/user_install.html\">Jupyter\n",
       "  Widgets Documentation</a> for setup instructions.\n",
       "</p>\n",
       "<p>\n",
       "  If you're reading this message in another frontend (for example, a static\n",
       "  rendering on GitHub or <a href=\"https://nbviewer.jupyter.org/\">NBViewer</a>),\n",
       "  it may mean that your frontend doesn't currently support widgets.\n",
       "</p>\n"
      ],
      "text/plain": [
       "HBox(children=(IntProgress(value=0, max=132748), HTML(value='')))"
      ]
     },
     "metadata": {},
     "output_type": "display_data"
    }
   ],
   "source": [
    "runningLoss = []\n",
    "printLoss = []\n",
    "epoch = 0\n",
    "while epoch < params['epoch_limit']:\n",
    "    epoch += 1\n",
    "    L = len(trainLoader.dataset)\n",
    "    pbar = tqdm(total = L)\n",
    "    for i, batchData in enumerate(trainLoader):\n",
    "        users = torch.LongTensor(batchData['user'])#.to(Rating.device)\n",
    "#         print(users.shape)\n",
    "        items = torch.LongTensor(batchData['item'])#.to(Rating.device)\n",
    "#         print(items.shape)\n",
    "        pre_r = model.forward(users, items).view(-1)\n",
    "#         print(pre_r.shape)\n",
    "        r = torch.FloatTensor(batchData['rating'])#.to(Rating.device)\n",
    "#         print(r)\n",
    "        \n",
    "        loss = criterion(pre_r,r)\n",
    "        optimizer.zero_grad()\n",
    "#         print(loss)\n",
    "        runningLoss.append(loss.item())\n",
    "        if (i+1) % 50 == 0:\n",
    "            printLoss.append(np.mean(np.array(runningLoss[-50:])))\n",
    "        if (i+1) >= 50:\n",
    "            pbar.set_postfix({'loss' : '{0:1.5f}'.format(np.mean(np.array(runningLoss[-50:])))})\n",
    "            \n",
    "        loss.backward()\n",
    "        optimizer.step()\n",
    "        \n",
    "        pbar.update(users.shape[0])\n",
    "    pbar.close()\n",
    "    \n",
    "#     with torch.no_grad():\n",
    "#         L = len(valLoader.dataset)\n",
    "#         pbar = tqdm(total = L)\n",
    "#         scoreDict = dict()\n",
    "#         for i, batchData in enumerate(valLoader):\n",
    "#             if i > 1000:\n",
    "#                 break\n",
    "#             user = torch.LongTensor(batchData['user']).to(model.device)\n",
    "#             posItems = torch.LongTensor(batchData['posItem']).to(model.device)\n",
    "#             negItems = torch.LongTensor(batchData['negItem']).to(model.device)\n",
    "#             items = torch.cat((posItems, negItems),1).view(-1)\n",
    "#             users = user.expand(items.shape[0])\n",
    "#             out = model.forward(users,items)\n",
    "#             # print(\"user: \\n\" + str(user))\n",
    "#             # print(\"posItems: \\n\" + str(posItems))\n",
    "#             # print(\"negItems: \\n\" + str(negItems))\n",
    "#             # print(\"items: \\n\" + str(items))\n",
    "#             # print(\"users: \\n\" + str(users))\n",
    "#             # print(\"out: \\n\" + str(out))\n",
    "#             # print(\"model: \\n\" + str(model.))\n",
    "#             # input()\n",
    "#             # pdb.set_trace()\n",
    "#             scoreHeap = list()\n",
    "#             for j in range(out.shape[0]):\n",
    "#                 gt = False\n",
    "#                 if j < posItems.shape[1]:\n",
    "#                     gt = True\n",
    "#                 # if prices[j] > budget:\n",
    "#                 #     heappush(scoreHeap, (100, (0 + items[j].cpu().numpy(), gt)))\n",
    "#                 # else:\n",
    "#                 #     heappush(scoreHeap, (1 - out[j].cpu().numpy(), (0 + items[j].cpu().numpy(), gt)))\n",
    "#                 heappush(scoreHeap, (1 - out[j].cpu().numpy(), (0 + items[j].cpu().numpy(), gt)))\n",
    "#             scores = list()\n",
    "#             candidate = len(scoreHeap)\n",
    "#             for k in range(candidate):\n",
    "#                 scores.append(heappop(scoreHeap))\n",
    "#             pbar.update(1)\n",
    "#             scoreDict[user[0]] = (scores, posItems.shape[1])\n",
    "#         pbar.close()\n",
    "#     valResult = evaluation.ranking_performance(scoreDict,10)\n",
    "\n",
    "# with torch.no_grad():\n",
    "#     L = len(testLoader.dataset)\n",
    "#     pbar = tqdm(total = L)\n",
    "#     scoreDict = dict()\n",
    "#     for i, batchData in enumerate(testLoader):\n",
    "#         user = torch.LongTensor(batchData['user']).to(model.device)\n",
    "#         posItems = torch.LongTensor(batchData['posItem']).to(model.device)\n",
    "#         negItems = torch.LongTensor(batchData['negItem']).to(model.device)\n",
    "#         items = torch.cat((posItems, negItems),1).view(-1)\n",
    "#         users = user.expand(items.shape[0])\n",
    "#         out = model.forward(users,items)\n",
    "#         scoreHeap = list()\n",
    "#         for j in range(out.shape[0]):\n",
    "#             gt = False\n",
    "#             if j < posItems.shape[1]:\n",
    "#                 gt = True\n",
    "#             # if prices[j] > budget:\n",
    "#             #     heappush(scoreHeap, (100, (0 + items[j].cpu().numpy(), gt)))\n",
    "#             # else:\n",
    "#             #     heappush(scoreHeap, (1 - out[j].cpu().numpy(), (0 + items[j].cpu().numpy(), gt)))\n",
    "#             heappush(scoreHeap, (1 - out[j].cpu().numpy(), (0 + items[j].cpu().numpy(), gt)))\n",
    "#         scores = list()\n",
    "#         candidate = len(scoreHeap)\n",
    "#         for k in range(candidate):\n",
    "#             scores.append(heappop(scoreHeap))\n",
    "#         pbar.update(1)\n",
    "#         scoreDict[user[0]] = (scores, posItems.shape[1])\n",
    "#     pbar.close()\n",
    "# testResult = evaluation.ranking_performance(scoreDict,10)"
   ]
  },
  {
   "cell_type": "markdown",
   "metadata": {},
   "source": [
    "[19853, 3819, 4], [12437, 12559, 5], [18452, 12559, 5], \n",
    "[18713, 12559, 5], [6165, 12559, 5], [2471, 12559, 4],\n",
    "[16993, 34058, 2]"
   ]
  },
  {
   "cell_type": "code",
   "execution_count": 14,
   "metadata": {},
   "outputs": [
    {
     "data": {
      "text/plain": [
       "tensor([3.5295, 4.2236, 5.2451, 5.0645, 4.4361, 4.9717, 2.8618],\n",
       "       grad_fn=<AddBackward0>)"
      ]
     },
     "execution_count": 14,
     "metadata": {},
     "output_type": "execute_result"
    }
   ],
   "source": [
    "model.forward(torch.LongTensor([19853,12437,18452,18713,6165,2471,16993]),\n",
    "              torch.LongTensor([3819,12559,12559,12559,12559,12559,34058]))"
   ]
  },
  {
   "cell_type": "code",
   "execution_count": null,
   "metadata": {},
   "outputs": [],
   "source": [
    "i = 0\n",
    "for k,v in scoreDict.items():\n",
    "    print (v)\n",
    "    i += 1\n",
    "    if i == 10:\n",
    "        break"
   ]
  },
  {
   "cell_type": "code",
   "execution_count": 17,
   "metadata": {},
   "outputs": [],
   "source": [
    "b = torch.LongTensor([[1,10,1100,23000,20000],[1,10,1100,23000,20000],[1,10,1100,23000,20000]])\n",
    "a = torch.LongTensor([[20000,9999,776,28,1000],[20000,9999,776,28,1000],[20000,9999,776,28,1000]])"
   ]
  },
  {
   "cell_type": "code",
   "execution_count": 18,
   "metadata": {},
   "outputs": [
    {
     "name": "stdout",
     "output_type": "stream",
     "text": [
      "tensor([[21617590],\n",
      "        [21617590],\n",
      "        [21617590]])\n"
     ]
    }
   ],
   "source": [
    "print(torch.mul(a, b).sum(1).view(-1,1))"
   ]
  },
  {
   "cell_type": "code",
   "execution_count": 19,
   "metadata": {},
   "outputs": [
    {
     "data": {
      "text/plain": [
       "torch.Size([3, 5])"
      ]
     },
     "execution_count": 19,
     "metadata": {},
     "output_type": "execute_result"
    }
   ],
   "source": [
    "b.shape"
   ]
  },
  {
   "cell_type": "code",
   "execution_count": 20,
   "metadata": {},
   "outputs": [],
   "source": [
    "c = b.view(-1,1)\n",
    "d = b.view(-1)"
   ]
  },
  {
   "cell_type": "code",
   "execution_count": 22,
   "metadata": {},
   "outputs": [
    {
     "data": {
      "text/plain": [
       "torch.Size([15, 15])"
      ]
     },
     "execution_count": 22,
     "metadata": {},
     "output_type": "execute_result"
    }
   ],
   "source": [
    "torch.mul(c,d).shape"
   ]
  },
  {
   "cell_type": "code",
   "execution_count": 23,
   "metadata": {},
   "outputs": [
    {
     "data": {
      "text/plain": [
       "torch.Size([15, 15])"
      ]
     },
     "execution_count": 23,
     "metadata": {},
     "output_type": "execute_result"
    }
   ],
   "source": [
    "(c*d).shape"
   ]
  },
  {
   "cell_type": "code",
   "execution_count": 26,
   "metadata": {},
   "outputs": [
    {
     "data": {
      "text/plain": [
       "torch.Size([15, 15])"
      ]
     },
     "execution_count": 26,
     "metadata": {},
     "output_type": "execute_result"
    }
   ],
   "source": [
    "(c+d).shape"
   ]
  },
  {
   "cell_type": "code",
   "execution_count": null,
   "metadata": {},
   "outputs": [],
   "source": []
  }
 ],
 "metadata": {
  "kernelspec": {
   "display_name": "Python 3",
   "language": "python",
   "name": "python3"
  },
  "language_info": {
   "codemirror_mode": {
    "name": "ipython",
    "version": 3
   },
   "file_extension": ".py",
   "mimetype": "text/x-python",
   "name": "python",
   "nbconvert_exporter": "python",
   "pygments_lexer": "ipython3",
   "version": "3.6.4"
  },
  "toc": {
   "base_numbering": 1,
   "nav_menu": {},
   "number_sections": true,
   "sideBar": true,
   "skip_h1_title": false,
   "title_cell": "Table of Contents",
   "title_sidebar": "Contents",
   "toc_cell": false,
   "toc_position": {},
   "toc_section_display": true,
   "toc_window_display": false
  },
  "varInspector": {
   "cols": {
    "lenName": 16,
    "lenType": 16,
    "lenVar": 40
   },
   "kernels_config": {
    "python": {
     "delete_cmd_postfix": "",
     "delete_cmd_prefix": "del ",
     "library": "var_list.py",
     "varRefreshCmd": "print(var_dic_list())"
    },
    "r": {
     "delete_cmd_postfix": ") ",
     "delete_cmd_prefix": "rm(",
     "library": "var_list.r",
     "varRefreshCmd": "cat(var_dic_list()) "
    }
   },
   "types_to_exclude": [
    "module",
    "function",
    "builtin_function_or_method",
    "instance",
    "_Feature"
   ],
   "window_display": false
  }
 },
 "nbformat": 4,
 "nbformat_minor": 2
}
